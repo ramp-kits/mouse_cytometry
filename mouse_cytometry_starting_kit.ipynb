{
 "cells": [
  {
   "cell_type": "markdown",
   "metadata": {},
   "source": [
    "# [Paris Saclay Center for Data Science](http://www.datascience-paris-saclay.fr)\n",
    "\n",
    "## [RAMP on cell phenotyping](http://www.ramp.studio/problems/mouse_cytometry): population identification from single cell data\n",
    "\n",
    "## Introduction\n",
    "\n",
    "\n",
    "Tissue samples are mixtures of several distinct cell types each of which performs certain activities for the maintenance of proper tissue functioning. To carry out these activites cells of each type are programmed to produce specific sets of membrane proteins, known as markers. These markers are usually involved in activities such as communication, adhesion, or metabolism. The specificity of a marker to an activity and, concomitantly, to a cell type makes it ideal to use for separating cells into different populations. A caveat to this task is that some surface markers will often be present on more than one cell populations.\n",
    "\n",
    "In this context, cell phenotyping is the analysis of such heterogeneous populations of cells based on the types of proteins installed on their surfaces (phenotype). The purpose of this process is to identify the presence and proportions of the various populations of interest and enable the determination of their functions in tissues. As such, cell phenotyping has led to the significant improvement of our understanding of biological mechanisms and their association with disease. \n",
    "\n",
    "Single-cell technologies, such as flow/mass cytometry, are able to detect and objectively measure the abundance of cell markers in hundreds of thousands of individual cells and acquire data about dozens of them in a matter of seconds. Flow cytometry platforms, for example, are being used for decades now as a research tool to distinguish different cell types in mixed populations by measuring up to 20 markers on a cell-by-cell basis. More recently, the advent of mass cytometry has pushed this limit up to more than 40 parameters, boosting the potential resolution of phenotyping.\n",
    "\n",
    "Until today, however, the analysis of the resulting high-dimensional datasets relies on the subjective and time-consuming _gating_, that is, a manual labeling procedure whereby cells are iteratively partitioned into populations through visual inspection by an expert of one-dimensional histogram or two-dimensional scatter plots at a time. This inefficiency to handle high-dimensional data has resulted in a growing interest for the development of robust computational methods that are able to identify interesting cell populations in an automated manner. In response to such need, the goal of this challenge is to develop prediction models able to **identify cell populations from single cell mass cytometry data**.\n",
    "\n",
    "\n",
    "## Data synopsis\n",
    "\n",
    "The data is from [Samusik et al.](https://www.nature.com/nmeth/journal/v13/n6/full/nmeth.3863.html) where, 38 surface markers (_features_) were measured in cells from the the bone marrow of healthy mice. The samples were analyzed and independently hand-gated by experts to identify 24 immune cell populations (_classes_).\n",
    "\n",
    "We provide a random subset of 160K cell samples (from the [>500K publicly available](https://www.dropbox.com/sh/fx83o71jmjac554/AAA5yyvE_3dKRnvQM5VoJPLba?dl=0)).\n",
    "\n",
    "Part of these data are saved in the files _train.csv_ and _test.csv_ as follows (<i>n_samples</i> being the number of cell samples, <i>n_feat</i> being the number of features/markers and <i>cell_type</i> being class labels):\n",
    "\n",
    "<ul>\n",
    "<li> each <b>row</b> corresponds to a cell sample</li>\n",
    "<li> <b>columns 1 to 38</b> contain the abundance levels of the 38 surface markers (features). Dimensions: (n_samples, n_feat)</li>\n",
    "<li><b>column 39 (<i>cell_type</i>)</b> contains the population label that each cell corresponds to according to manual gating by experts. Twenty four possible values. Dimensions: (n_samples, 1)</li>\n",
    "</ul>\n",
    "\n",
    "## Data-analysis suggestions\n",
    "\n",
    "The data provided have been normalized using internal cytometry standards. However, cytometry data are naturally log-normal, hence, a log or log-like scale is typically used to visualize and interpret the data. Commonly used scales include inverse hyperbolic sine (arcsinh), logarithmic, and logicle (also referred to as ‘‘bi-exponential’’) scales [Diggins,et al.](https://www.ncbi.nlm.nih.gov/pubmed/25979346)."
   ]
  },
  {
   "cell_type": "markdown",
   "metadata": {},
   "source": [
    "### Requirements\n",
    "\n",
    "* numpy>=1.10.0  \n",
    "* matplotlib>=1.5.0 \n",
    "* pandas>=0.19.0  \n",
    "* scikit-learn>=0.17 (different syntaxes for v0.17 and v0.18)   \n",
    "* seaborn>=0.7.1"
   ]
  },
  {
   "cell_type": "code",
   "execution_count": 1,
   "metadata": {
    "collapsed": true
   },
   "outputs": [],
   "source": [
    "%matplotlib inline\n",
    "import os\n",
    "import glob\n",
    "import numpy as np\n",
    "from scipy import io\n",
    "import matplotlib.pyplot as plt\n",
    "import pandas as pd\n",
    "import seaborn as sns\n",
    "pd.options.display.max_columns = 40"
   ]
  },
  {
   "cell_type": "markdown",
   "metadata": {},
   "source": [
    "## Exploratory data analysis"
   ]
  },
  {
   "cell_type": "markdown",
   "metadata": {},
   "source": [
    "### Loading the data"
   ]
  },
  {
   "cell_type": "code",
   "execution_count": 4,
   "metadata": {
    "scrolled": true
   },
   "outputs": [
    {
     "data": {
      "text/html": [
       "<div>\n",
       "<style>\n",
       "    .dataframe thead tr:only-child th {\n",
       "        text-align: right;\n",
       "    }\n",
       "\n",
       "    .dataframe thead th {\n",
       "        text-align: left;\n",
       "    }\n",
       "\n",
       "    .dataframe tbody tr th {\n",
       "        vertical-align: top;\n",
       "    }\n",
       "</style>\n",
       "<table border=\"1\" class=\"dataframe\">\n",
       "  <thead>\n",
       "    <tr style=\"text-align: right;\">\n",
       "      <th></th>\n",
       "      <th>CD45_2</th>\n",
       "      <th>Ly6G</th>\n",
       "      <th>IgD</th>\n",
       "      <th>CD11c</th>\n",
       "      <th>F480</th>\n",
       "      <th>CD3</th>\n",
       "      <th>NKp46</th>\n",
       "      <th>CD23</th>\n",
       "      <th>CD34</th>\n",
       "      <th>CD115</th>\n",
       "      <th>CD19</th>\n",
       "      <th>CD317</th>\n",
       "      <th>CD8</th>\n",
       "      <th>Ly6C</th>\n",
       "      <th>CD4</th>\n",
       "      <th>CD11b</th>\n",
       "      <th>CD27</th>\n",
       "      <th>CD16_32</th>\n",
       "      <th>SiglecF</th>\n",
       "      <th>Foxp3</th>\n",
       "      <th>B220</th>\n",
       "      <th>CD5</th>\n",
       "      <th>FceR1a</th>\n",
       "      <th>TCRgd</th>\n",
       "      <th>CCR7</th>\n",
       "      <th>Sca1</th>\n",
       "      <th>CD49b</th>\n",
       "      <th>cKit</th>\n",
       "      <th>CD150</th>\n",
       "      <th>CD25</th>\n",
       "      <th>TCRb</th>\n",
       "      <th>CD43</th>\n",
       "      <th>CD64</th>\n",
       "      <th>CD138</th>\n",
       "      <th>CD103</th>\n",
       "      <th>IgM</th>\n",
       "      <th>CD44</th>\n",
       "      <th>MHCII</th>\n",
       "    </tr>\n",
       "  </thead>\n",
       "  <tbody>\n",
       "    <tr>\n",
       "      <th>0</th>\n",
       "      <td>5.184107</td>\n",
       "      <td>-0.614249</td>\n",
       "      <td>16.254227</td>\n",
       "      <td>1.128962</td>\n",
       "      <td>-0.294390</td>\n",
       "      <td>-0.257445</td>\n",
       "      <td>2.185687</td>\n",
       "      <td>1.691536</td>\n",
       "      <td>0.488122</td>\n",
       "      <td>4.966866</td>\n",
       "      <td>17.581703</td>\n",
       "      <td>-0.569669</td>\n",
       "      <td>-0.331235</td>\n",
       "      <td>-0.226878</td>\n",
       "      <td>-0.344648</td>\n",
       "      <td>-0.345967</td>\n",
       "      <td>-0.014072</td>\n",
       "      <td>37.040405</td>\n",
       "      <td>1.075191</td>\n",
       "      <td>2.253999</td>\n",
       "      <td>86.695564</td>\n",
       "      <td>-0.266084</td>\n",
       "      <td>0.384504</td>\n",
       "      <td>-0.383413</td>\n",
       "      <td>0.612064</td>\n",
       "      <td>5.972107</td>\n",
       "      <td>0.785341</td>\n",
       "      <td>0.771280</td>\n",
       "      <td>-0.326184</td>\n",
       "      <td>0.255916</td>\n",
       "      <td>-0.730248</td>\n",
       "      <td>-0.377115</td>\n",
       "      <td>-0.451360</td>\n",
       "      <td>0.414938</td>\n",
       "      <td>1.018010</td>\n",
       "      <td>47.419044</td>\n",
       "      <td>13.165092</td>\n",
       "      <td>144.117569</td>\n",
       "    </tr>\n",
       "    <tr>\n",
       "      <th>1</th>\n",
       "      <td>26.108330</td>\n",
       "      <td>-0.143993</td>\n",
       "      <td>20.763287</td>\n",
       "      <td>-0.727420</td>\n",
       "      <td>-0.525899</td>\n",
       "      <td>-0.331602</td>\n",
       "      <td>2.568386</td>\n",
       "      <td>0.424135</td>\n",
       "      <td>-0.172433</td>\n",
       "      <td>-0.638150</td>\n",
       "      <td>9.989503</td>\n",
       "      <td>-0.186103</td>\n",
       "      <td>-0.342890</td>\n",
       "      <td>-0.384077</td>\n",
       "      <td>-0.548422</td>\n",
       "      <td>-0.316043</td>\n",
       "      <td>-0.619742</td>\n",
       "      <td>16.956970</td>\n",
       "      <td>-0.069873</td>\n",
       "      <td>-0.787566</td>\n",
       "      <td>10.885949</td>\n",
       "      <td>-0.857974</td>\n",
       "      <td>4.181842</td>\n",
       "      <td>-0.515586</td>\n",
       "      <td>-0.406529</td>\n",
       "      <td>19.277637</td>\n",
       "      <td>-0.825047</td>\n",
       "      <td>-0.601090</td>\n",
       "      <td>2.094285</td>\n",
       "      <td>0.495830</td>\n",
       "      <td>-0.828456</td>\n",
       "      <td>-0.423263</td>\n",
       "      <td>3.131299</td>\n",
       "      <td>-0.347129</td>\n",
       "      <td>-0.494209</td>\n",
       "      <td>14.892539</td>\n",
       "      <td>3.116287</td>\n",
       "      <td>153.527084</td>\n",
       "    </tr>\n",
       "    <tr>\n",
       "      <th>2</th>\n",
       "      <td>1.998982</td>\n",
       "      <td>3.593766</td>\n",
       "      <td>-0.174089</td>\n",
       "      <td>-0.074486</td>\n",
       "      <td>1.884863</td>\n",
       "      <td>-0.772508</td>\n",
       "      <td>-0.195184</td>\n",
       "      <td>-0.102560</td>\n",
       "      <td>-0.188266</td>\n",
       "      <td>3.557146</td>\n",
       "      <td>-0.279910</td>\n",
       "      <td>0.099656</td>\n",
       "      <td>-0.767110</td>\n",
       "      <td>-0.709119</td>\n",
       "      <td>-0.422201</td>\n",
       "      <td>4.086310</td>\n",
       "      <td>-0.017603</td>\n",
       "      <td>0.071415</td>\n",
       "      <td>0.530981</td>\n",
       "      <td>4.106629</td>\n",
       "      <td>0.356871</td>\n",
       "      <td>14.079478</td>\n",
       "      <td>-0.754099</td>\n",
       "      <td>1.358163</td>\n",
       "      <td>1.129240</td>\n",
       "      <td>2.878189</td>\n",
       "      <td>-0.561281</td>\n",
       "      <td>39.050819</td>\n",
       "      <td>0.271382</td>\n",
       "      <td>0.335835</td>\n",
       "      <td>-0.023304</td>\n",
       "      <td>2.570186</td>\n",
       "      <td>-0.606843</td>\n",
       "      <td>-0.180119</td>\n",
       "      <td>-0.572884</td>\n",
       "      <td>6.078991</td>\n",
       "      <td>100.899887</td>\n",
       "      <td>10.146564</td>\n",
       "    </tr>\n",
       "    <tr>\n",
       "      <th>3</th>\n",
       "      <td>7.558946</td>\n",
       "      <td>-0.317426</td>\n",
       "      <td>29.027504</td>\n",
       "      <td>-0.490670</td>\n",
       "      <td>-0.761016</td>\n",
       "      <td>0.240243</td>\n",
       "      <td>-0.022701</td>\n",
       "      <td>2.290725</td>\n",
       "      <td>-0.167272</td>\n",
       "      <td>-0.035398</td>\n",
       "      <td>12.393232</td>\n",
       "      <td>-0.579551</td>\n",
       "      <td>-0.547592</td>\n",
       "      <td>-0.194719</td>\n",
       "      <td>-0.143832</td>\n",
       "      <td>1.355173</td>\n",
       "      <td>-0.717659</td>\n",
       "      <td>9.838818</td>\n",
       "      <td>0.731562</td>\n",
       "      <td>0.755950</td>\n",
       "      <td>165.188660</td>\n",
       "      <td>0.079020</td>\n",
       "      <td>0.216597</td>\n",
       "      <td>-0.596524</td>\n",
       "      <td>-0.498703</td>\n",
       "      <td>3.479736</td>\n",
       "      <td>-0.631879</td>\n",
       "      <td>-0.663007</td>\n",
       "      <td>-0.617559</td>\n",
       "      <td>-0.128783</td>\n",
       "      <td>1.313777</td>\n",
       "      <td>-0.090054</td>\n",
       "      <td>-0.476902</td>\n",
       "      <td>-0.566708</td>\n",
       "      <td>0.548303</td>\n",
       "      <td>71.261215</td>\n",
       "      <td>4.854009</td>\n",
       "      <td>514.531860</td>\n",
       "    </tr>\n",
       "    <tr>\n",
       "      <th>4</th>\n",
       "      <td>6.346709</td>\n",
       "      <td>-0.381714</td>\n",
       "      <td>-0.246489</td>\n",
       "      <td>-0.035979</td>\n",
       "      <td>7.812408</td>\n",
       "      <td>0.783094</td>\n",
       "      <td>0.420766</td>\n",
       "      <td>-0.345945</td>\n",
       "      <td>-0.389636</td>\n",
       "      <td>6.196233</td>\n",
       "      <td>1.221561</td>\n",
       "      <td>-0.400435</td>\n",
       "      <td>-0.507851</td>\n",
       "      <td>159.850327</td>\n",
       "      <td>-0.233085</td>\n",
       "      <td>60.301483</td>\n",
       "      <td>2.634705</td>\n",
       "      <td>72.398682</td>\n",
       "      <td>9.063648</td>\n",
       "      <td>-0.759565</td>\n",
       "      <td>-0.769704</td>\n",
       "      <td>1.116173</td>\n",
       "      <td>1.225353</td>\n",
       "      <td>0.459268</td>\n",
       "      <td>-0.296914</td>\n",
       "      <td>-0.501460</td>\n",
       "      <td>0.084222</td>\n",
       "      <td>-0.398124</td>\n",
       "      <td>0.575038</td>\n",
       "      <td>2.405784</td>\n",
       "      <td>-0.592862</td>\n",
       "      <td>8.540835</td>\n",
       "      <td>-0.045285</td>\n",
       "      <td>0.516026</td>\n",
       "      <td>-0.215256</td>\n",
       "      <td>1.912416</td>\n",
       "      <td>123.579239</td>\n",
       "      <td>3.622238</td>\n",
       "    </tr>\n",
       "  </tbody>\n",
       "</table>\n",
       "</div>"
      ],
      "text/plain": [
       "      CD45_2      Ly6G        IgD     CD11c      F480       CD3     NKp46  \\\n",
       "0   5.184107 -0.614249  16.254227  1.128962 -0.294390 -0.257445  2.185687   \n",
       "1  26.108330 -0.143993  20.763287 -0.727420 -0.525899 -0.331602  2.568386   \n",
       "2   1.998982  3.593766  -0.174089 -0.074486  1.884863 -0.772508 -0.195184   \n",
       "3   7.558946 -0.317426  29.027504 -0.490670 -0.761016  0.240243 -0.022701   \n",
       "4   6.346709 -0.381714  -0.246489 -0.035979  7.812408  0.783094  0.420766   \n",
       "\n",
       "       CD23      CD34     CD115       CD19     CD317       CD8        Ly6C  \\\n",
       "0  1.691536  0.488122  4.966866  17.581703 -0.569669 -0.331235   -0.226878   \n",
       "1  0.424135 -0.172433 -0.638150   9.989503 -0.186103 -0.342890   -0.384077   \n",
       "2 -0.102560 -0.188266  3.557146  -0.279910  0.099656 -0.767110   -0.709119   \n",
       "3  2.290725 -0.167272 -0.035398  12.393232 -0.579551 -0.547592   -0.194719   \n",
       "4 -0.345945 -0.389636  6.196233   1.221561 -0.400435 -0.507851  159.850327   \n",
       "\n",
       "        CD4      CD11b      CD27    CD16_32   SiglecF     Foxp3        B220  \\\n",
       "0 -0.344648  -0.345967 -0.014072  37.040405  1.075191  2.253999   86.695564   \n",
       "1 -0.548422  -0.316043 -0.619742  16.956970 -0.069873 -0.787566   10.885949   \n",
       "2 -0.422201   4.086310 -0.017603   0.071415  0.530981  4.106629    0.356871   \n",
       "3 -0.143832   1.355173 -0.717659   9.838818  0.731562  0.755950  165.188660   \n",
       "4 -0.233085  60.301483  2.634705  72.398682  9.063648 -0.759565   -0.769704   \n",
       "\n",
       "         CD5    FceR1a     TCRgd      CCR7       Sca1     CD49b       cKit  \\\n",
       "0  -0.266084  0.384504 -0.383413  0.612064   5.972107  0.785341   0.771280   \n",
       "1  -0.857974  4.181842 -0.515586 -0.406529  19.277637 -0.825047  -0.601090   \n",
       "2  14.079478 -0.754099  1.358163  1.129240   2.878189 -0.561281  39.050819   \n",
       "3   0.079020  0.216597 -0.596524 -0.498703   3.479736 -0.631879  -0.663007   \n",
       "4   1.116173  1.225353  0.459268 -0.296914  -0.501460  0.084222  -0.398124   \n",
       "\n",
       "      CD150      CD25      TCRb      CD43      CD64     CD138     CD103  \\\n",
       "0 -0.326184  0.255916 -0.730248 -0.377115 -0.451360  0.414938  1.018010   \n",
       "1  2.094285  0.495830 -0.828456 -0.423263  3.131299 -0.347129 -0.494209   \n",
       "2  0.271382  0.335835 -0.023304  2.570186 -0.606843 -0.180119 -0.572884   \n",
       "3 -0.617559 -0.128783  1.313777 -0.090054 -0.476902 -0.566708  0.548303   \n",
       "4  0.575038  2.405784 -0.592862  8.540835 -0.045285  0.516026 -0.215256   \n",
       "\n",
       "         IgM        CD44       MHCII  \n",
       "0  47.419044   13.165092  144.117569  \n",
       "1  14.892539    3.116287  153.527084  \n",
       "2   6.078991  100.899887   10.146564  \n",
       "3  71.261215    4.854009  514.531860  \n",
       "4   1.912416  123.579239    3.622238  "
      ]
     },
     "execution_count": 4,
     "metadata": {},
     "output_type": "execute_result"
    }
   ],
   "source": [
    "train_filename = 'data/train.csv.gz'\n",
    "data = pd.read_csv(train_filename)\n",
    "y_df = data['cell type']\n",
    "X_df = data.drop(['cell type'], axis=1)\n",
    "X_df.head(5)"
   ]
  },
  {
   "cell_type": "code",
   "execution_count": 5,
   "metadata": {},
   "outputs": [
    {
     "data": {
      "text/plain": [
       "0         IgDpos IgMpos B cells\n",
       "1         IgDpos IgMpos B cells\n",
       "2                           MEP\n",
       "3         IgDpos IgMpos B cells\n",
       "4           Classical Monocytes\n",
       "5           Classical Monocytes\n",
       "6         IgDpos IgMpos B cells\n",
       "7         IgDpos IgMpos B cells\n",
       "8             IgM- IgD- B-cells\n",
       "9           IgD- IgMpos B cells\n",
       "10          Classical Monocytes\n",
       "11        IgDpos IgMpos B cells\n",
       "12        IgDpos IgMpos B cells\n",
       "13       Intermediate Monocytes\n",
       "14                  Eosinophils\n",
       "15          Classical Monocytes\n",
       "16        IgDpos IgMpos B cells\n",
       "17       Intermediate Monocytes\n",
       "18        IgDpos IgMpos B cells\n",
       "19          Classical Monocytes\n",
       "20        IgDpos IgMpos B cells\n",
       "21                         pDCs\n",
       "22            IgM- IgD- B-cells\n",
       "23                  Eosinophils\n",
       "24        IgDpos IgMpos B cells\n",
       "25                          MEP\n",
       "26        IgDpos IgMpos B cells\n",
       "27          Classical Monocytes\n",
       "28       Intermediate Monocytes\n",
       "29                     NK cells\n",
       "                  ...          \n",
       "19970                       GMP\n",
       "19971                       GMP\n",
       "19972               CD8 T cells\n",
       "19973       Classical Monocytes\n",
       "19974               CD4 T cells\n",
       "19975       Classical Monocytes\n",
       "19976    Intermediate Monocytes\n",
       "19977                  NK cells\n",
       "19978    Intermediate Monocytes\n",
       "19979               Macrophages\n",
       "19980       Classical Monocytes\n",
       "19981       IgD- IgMpos B cells\n",
       "19982     IgDpos IgMpos B cells\n",
       "19983     IgDpos IgMpos B cells\n",
       "19984       IgD- IgMpos B cells\n",
       "19985       IgD- IgMpos B cells\n",
       "19986     IgDpos IgMpos B cells\n",
       "19987       Classical Monocytes\n",
       "19988    Intermediate Monocytes\n",
       "19989     IgDpos IgMpos B cells\n",
       "19990       IgD- IgMpos B cells\n",
       "19991     IgDpos IgMpos B cells\n",
       "19992     IgDpos IgMpos B cells\n",
       "19993     IgDpos IgMpos B cells\n",
       "19994               Eosinophils\n",
       "19995    Intermediate Monocytes\n",
       "19996    Intermediate Monocytes\n",
       "19997       Classical Monocytes\n",
       "19998       Classical Monocytes\n",
       "19999     IgDpos IgMpos B cells\n",
       "Name: cell type, Length: 20000, dtype: object"
      ]
     },
     "execution_count": 5,
     "metadata": {},
     "output_type": "execute_result"
    }
   ],
   "source": [
    "y_df"
   ]
  },
  {
   "cell_type": "code",
   "execution_count": 6,
   "metadata": {},
   "outputs": [
    {
     "data": {
      "text/html": [
       "<div>\n",
       "<style>\n",
       "    .dataframe thead tr:only-child th {\n",
       "        text-align: right;\n",
       "    }\n",
       "\n",
       "    .dataframe thead th {\n",
       "        text-align: left;\n",
       "    }\n",
       "\n",
       "    .dataframe tbody tr th {\n",
       "        vertical-align: top;\n",
       "    }\n",
       "</style>\n",
       "<table border=\"1\" class=\"dataframe\">\n",
       "  <thead>\n",
       "    <tr style=\"text-align: right;\">\n",
       "      <th></th>\n",
       "      <th>CD45_2</th>\n",
       "      <th>Ly6G</th>\n",
       "      <th>IgD</th>\n",
       "      <th>CD11c</th>\n",
       "      <th>F480</th>\n",
       "      <th>CD3</th>\n",
       "      <th>NKp46</th>\n",
       "      <th>CD23</th>\n",
       "      <th>CD34</th>\n",
       "      <th>CD115</th>\n",
       "      <th>CD19</th>\n",
       "      <th>CD317</th>\n",
       "      <th>CD8</th>\n",
       "      <th>Ly6C</th>\n",
       "      <th>CD4</th>\n",
       "      <th>CD11b</th>\n",
       "      <th>CD27</th>\n",
       "      <th>CD16_32</th>\n",
       "      <th>SiglecF</th>\n",
       "      <th>Foxp3</th>\n",
       "      <th>B220</th>\n",
       "      <th>CD5</th>\n",
       "      <th>FceR1a</th>\n",
       "      <th>TCRgd</th>\n",
       "      <th>CCR7</th>\n",
       "      <th>Sca1</th>\n",
       "      <th>CD49b</th>\n",
       "      <th>cKit</th>\n",
       "      <th>CD150</th>\n",
       "      <th>CD25</th>\n",
       "      <th>TCRb</th>\n",
       "      <th>CD43</th>\n",
       "      <th>CD64</th>\n",
       "      <th>CD138</th>\n",
       "      <th>CD103</th>\n",
       "      <th>IgM</th>\n",
       "      <th>CD44</th>\n",
       "      <th>MHCII</th>\n",
       "    </tr>\n",
       "  </thead>\n",
       "  <tbody>\n",
       "    <tr>\n",
       "      <th>count</th>\n",
       "      <td>20000.000000</td>\n",
       "      <td>20000.000000</td>\n",
       "      <td>20000.000000</td>\n",
       "      <td>20000.000000</td>\n",
       "      <td>20000.000000</td>\n",
       "      <td>20000.000000</td>\n",
       "      <td>20000.000000</td>\n",
       "      <td>20000.000000</td>\n",
       "      <td>20000.000000</td>\n",
       "      <td>20000.000000</td>\n",
       "      <td>20000.000000</td>\n",
       "      <td>20000.000000</td>\n",
       "      <td>20000.000000</td>\n",
       "      <td>20000.000000</td>\n",
       "      <td>20000.000000</td>\n",
       "      <td>20000.000000</td>\n",
       "      <td>20000.000000</td>\n",
       "      <td>20000.000000</td>\n",
       "      <td>20000.000000</td>\n",
       "      <td>20000.000000</td>\n",
       "      <td>20000.000000</td>\n",
       "      <td>20000.000000</td>\n",
       "      <td>20000.000000</td>\n",
       "      <td>20000.000000</td>\n",
       "      <td>20000.000000</td>\n",
       "      <td>20000.000000</td>\n",
       "      <td>20000.000000</td>\n",
       "      <td>20000.000000</td>\n",
       "      <td>20000.000000</td>\n",
       "      <td>20000.000000</td>\n",
       "      <td>20000.000000</td>\n",
       "      <td>20000.000000</td>\n",
       "      <td>20000.000000</td>\n",
       "      <td>20000.000000</td>\n",
       "      <td>20000.000000</td>\n",
       "      <td>20000.000000</td>\n",
       "      <td>20000.000000</td>\n",
       "      <td>20000.000000</td>\n",
       "    </tr>\n",
       "    <tr>\n",
       "      <th>mean</th>\n",
       "      <td>13.709700</td>\n",
       "      <td>1.879270</td>\n",
       "      <td>11.246772</td>\n",
       "      <td>0.696559</td>\n",
       "      <td>7.282648</td>\n",
       "      <td>1.957412</td>\n",
       "      <td>0.841610</td>\n",
       "      <td>0.635174</td>\n",
       "      <td>3.832098</td>\n",
       "      <td>3.274759</td>\n",
       "      <td>2.779092</td>\n",
       "      <td>5.080735</td>\n",
       "      <td>3.900572</td>\n",
       "      <td>45.857385</td>\n",
       "      <td>9.140277</td>\n",
       "      <td>61.185287</td>\n",
       "      <td>4.328650</td>\n",
       "      <td>64.579647</td>\n",
       "      <td>9.675808</td>\n",
       "      <td>0.727527</td>\n",
       "      <td>40.647017</td>\n",
       "      <td>9.656876</td>\n",
       "      <td>1.219676</td>\n",
       "      <td>0.039424</td>\n",
       "      <td>1.062334</td>\n",
       "      <td>38.720149</td>\n",
       "      <td>2.168544</td>\n",
       "      <td>4.746880</td>\n",
       "      <td>0.518617</td>\n",
       "      <td>0.321323</td>\n",
       "      <td>2.377227</td>\n",
       "      <td>20.057795</td>\n",
       "      <td>6.546918</td>\n",
       "      <td>0.872347</td>\n",
       "      <td>0.232923</td>\n",
       "      <td>47.141063</td>\n",
       "      <td>111.798262</td>\n",
       "      <td>168.860568</td>\n",
       "    </tr>\n",
       "    <tr>\n",
       "      <th>std</th>\n",
       "      <td>12.750946</td>\n",
       "      <td>2.973617</td>\n",
       "      <td>25.812864</td>\n",
       "      <td>4.330598</td>\n",
       "      <td>20.691196</td>\n",
       "      <td>9.073060</td>\n",
       "      <td>2.361161</td>\n",
       "      <td>2.429690</td>\n",
       "      <td>15.530291</td>\n",
       "      <td>5.547949</td>\n",
       "      <td>5.616888</td>\n",
       "      <td>26.281349</td>\n",
       "      <td>23.614836</td>\n",
       "      <td>86.288165</td>\n",
       "      <td>51.870401</td>\n",
       "      <td>104.029546</td>\n",
       "      <td>15.949272</td>\n",
       "      <td>82.743606</td>\n",
       "      <td>26.003295</td>\n",
       "      <td>2.142129</td>\n",
       "      <td>71.629270</td>\n",
       "      <td>48.712210</td>\n",
       "      <td>5.298974</td>\n",
       "      <td>1.294017</td>\n",
       "      <td>5.071636</td>\n",
       "      <td>187.575628</td>\n",
       "      <td>13.630346</td>\n",
       "      <td>27.129166</td>\n",
       "      <td>1.937042</td>\n",
       "      <td>1.903206</td>\n",
       "      <td>11.634843</td>\n",
       "      <td>55.730820</td>\n",
       "      <td>22.201841</td>\n",
       "      <td>2.625191</td>\n",
       "      <td>1.451478</td>\n",
       "      <td>225.841267</td>\n",
       "      <td>117.386742</td>\n",
       "      <td>358.342212</td>\n",
       "    </tr>\n",
       "    <tr>\n",
       "      <th>min</th>\n",
       "      <td>0.689910</td>\n",
       "      <td>-0.939096</td>\n",
       "      <td>-0.953296</td>\n",
       "      <td>-0.955921</td>\n",
       "      <td>-0.963544</td>\n",
       "      <td>-0.957609</td>\n",
       "      <td>-0.956368</td>\n",
       "      <td>-0.962759</td>\n",
       "      <td>-0.960851</td>\n",
       "      <td>-0.951100</td>\n",
       "      <td>-0.952782</td>\n",
       "      <td>-0.955540</td>\n",
       "      <td>-0.951181</td>\n",
       "      <td>-0.952593</td>\n",
       "      <td>-0.941269</td>\n",
       "      <td>-0.956041</td>\n",
       "      <td>-0.953131</td>\n",
       "      <td>-0.934012</td>\n",
       "      <td>-0.961858</td>\n",
       "      <td>-0.953011</td>\n",
       "      <td>-0.959281</td>\n",
       "      <td>-0.952529</td>\n",
       "      <td>-0.953412</td>\n",
       "      <td>-0.953304</td>\n",
       "      <td>-0.955424</td>\n",
       "      <td>-0.959300</td>\n",
       "      <td>-0.950866</td>\n",
       "      <td>-0.956529</td>\n",
       "      <td>-0.956209</td>\n",
       "      <td>-0.951548</td>\n",
       "      <td>-0.956899</td>\n",
       "      <td>-0.943958</td>\n",
       "      <td>-0.945808</td>\n",
       "      <td>-0.955067</td>\n",
       "      <td>-0.960537</td>\n",
       "      <td>-0.948119</td>\n",
       "      <td>-0.929574</td>\n",
       "      <td>-0.934934</td>\n",
       "    </tr>\n",
       "    <tr>\n",
       "      <th>25%</th>\n",
       "      <td>5.367285</td>\n",
       "      <td>0.011745</td>\n",
       "      <td>-0.450860</td>\n",
       "      <td>-0.533870</td>\n",
       "      <td>-0.037877</td>\n",
       "      <td>-0.497673</td>\n",
       "      <td>-0.436653</td>\n",
       "      <td>-0.522581</td>\n",
       "      <td>-0.202065</td>\n",
       "      <td>0.196615</td>\n",
       "      <td>-0.412958</td>\n",
       "      <td>-0.527239</td>\n",
       "      <td>-0.510720</td>\n",
       "      <td>-0.171324</td>\n",
       "      <td>-0.405624</td>\n",
       "      <td>-0.116031</td>\n",
       "      <td>-0.375971</td>\n",
       "      <td>13.567613</td>\n",
       "      <td>0.202856</td>\n",
       "      <td>-0.425482</td>\n",
       "      <td>-0.232208</td>\n",
       "      <td>0.139392</td>\n",
       "      <td>-0.317892</td>\n",
       "      <td>-0.551790</td>\n",
       "      <td>-0.354834</td>\n",
       "      <td>-0.183604</td>\n",
       "      <td>-0.516603</td>\n",
       "      <td>-0.479171</td>\n",
       "      <td>-0.475858</td>\n",
       "      <td>-0.517472</td>\n",
       "      <td>-0.495175</td>\n",
       "      <td>-0.102233</td>\n",
       "      <td>0.345299</td>\n",
       "      <td>-0.389858</td>\n",
       "      <td>-0.512231</td>\n",
       "      <td>0.004675</td>\n",
       "      <td>11.378628</td>\n",
       "      <td>2.912283</td>\n",
       "    </tr>\n",
       "    <tr>\n",
       "      <th>50%</th>\n",
       "      <td>10.265320</td>\n",
       "      <td>1.120865</td>\n",
       "      <td>-0.068927</td>\n",
       "      <td>-0.222152</td>\n",
       "      <td>1.704720</td>\n",
       "      <td>-0.161042</td>\n",
       "      <td>-0.027267</td>\n",
       "      <td>-0.198229</td>\n",
       "      <td>0.746728</td>\n",
       "      <td>1.649753</td>\n",
       "      <td>0.101136</td>\n",
       "      <td>-0.210559</td>\n",
       "      <td>-0.184942</td>\n",
       "      <td>3.930560</td>\n",
       "      <td>0.100846</td>\n",
       "      <td>7.096601</td>\n",
       "      <td>0.244438</td>\n",
       "      <td>37.054848</td>\n",
       "      <td>1.879903</td>\n",
       "      <td>-0.023726</td>\n",
       "      <td>1.471228</td>\n",
       "      <td>1.427473</td>\n",
       "      <td>0.354039</td>\n",
       "      <td>-0.262277</td>\n",
       "      <td>0.251846</td>\n",
       "      <td>0.860442</td>\n",
       "      <td>-0.192495</td>\n",
       "      <td>-0.122813</td>\n",
       "      <td>-0.112282</td>\n",
       "      <td>-0.197644</td>\n",
       "      <td>-0.141102</td>\n",
       "      <td>1.948316</td>\n",
       "      <td>2.086803</td>\n",
       "      <td>0.129269</td>\n",
       "      <td>-0.187583</td>\n",
       "      <td>1.842999</td>\n",
       "      <td>77.300793</td>\n",
       "      <td>9.495035</td>\n",
       "    </tr>\n",
       "    <tr>\n",
       "      <th>75%</th>\n",
       "      <td>17.749564</td>\n",
       "      <td>2.879429</td>\n",
       "      <td>3.021362</td>\n",
       "      <td>0.460411</td>\n",
       "      <td>6.907265</td>\n",
       "      <td>0.643786</td>\n",
       "      <td>1.134859</td>\n",
       "      <td>0.609988</td>\n",
       "      <td>2.916438</td>\n",
       "      <td>4.366428</td>\n",
       "      <td>3.688090</td>\n",
       "      <td>0.441300</td>\n",
       "      <td>0.593220</td>\n",
       "      <td>56.337713</td>\n",
       "      <td>1.891947</td>\n",
       "      <td>80.644081</td>\n",
       "      <td>2.270544</td>\n",
       "      <td>85.197489</td>\n",
       "      <td>5.478598</td>\n",
       "      <td>1.008633</td>\n",
       "      <td>50.802129</td>\n",
       "      <td>3.915237</td>\n",
       "      <td>1.579124</td>\n",
       "      <td>0.100581</td>\n",
       "      <td>1.493933</td>\n",
       "      <td>5.340081</td>\n",
       "      <td>0.586520</td>\n",
       "      <td>1.049539</td>\n",
       "      <td>0.751492</td>\n",
       "      <td>0.456671</td>\n",
       "      <td>0.651429</td>\n",
       "      <td>14.516475</td>\n",
       "      <td>5.898952</td>\n",
       "      <td>1.236123</td>\n",
       "      <td>0.470472</td>\n",
       "      <td>31.044620</td>\n",
       "      <td>184.754883</td>\n",
       "      <td>151.142109</td>\n",
       "    </tr>\n",
       "    <tr>\n",
       "      <th>max</th>\n",
       "      <td>194.885208</td>\n",
       "      <td>139.741837</td>\n",
       "      <td>317.892731</td>\n",
       "      <td>199.311951</td>\n",
       "      <td>559.553528</td>\n",
       "      <td>193.033981</td>\n",
       "      <td>44.262444</td>\n",
       "      <td>30.886175</td>\n",
       "      <td>350.304291</td>\n",
       "      <td>223.163712</td>\n",
       "      <td>70.145615</td>\n",
       "      <td>894.920715</td>\n",
       "      <td>527.528198</td>\n",
       "      <td>933.681641</td>\n",
       "      <td>1368.364990</td>\n",
       "      <td>1206.356445</td>\n",
       "      <td>315.321930</td>\n",
       "      <td>1827.831299</td>\n",
       "      <td>443.213684</td>\n",
       "      <td>49.981319</td>\n",
       "      <td>586.384155</td>\n",
       "      <td>1211.079468</td>\n",
       "      <td>419.073181</td>\n",
       "      <td>42.786957</td>\n",
       "      <td>616.684631</td>\n",
       "      <td>3131.254883</td>\n",
       "      <td>374.059692</td>\n",
       "      <td>764.139282</td>\n",
       "      <td>104.054375</td>\n",
       "      <td>55.070110</td>\n",
       "      <td>312.699097</td>\n",
       "      <td>986.681458</td>\n",
       "      <td>1163.531738</td>\n",
       "      <td>99.138710</td>\n",
       "      <td>51.372639</td>\n",
       "      <td>7097.400391</td>\n",
       "      <td>1860.849365</td>\n",
       "      <td>5880.458496</td>\n",
       "    </tr>\n",
       "  </tbody>\n",
       "</table>\n",
       "</div>"
      ],
      "text/plain": [
       "             CD45_2          Ly6G           IgD         CD11c          F480  \\\n",
       "count  20000.000000  20000.000000  20000.000000  20000.000000  20000.000000   \n",
       "mean      13.709700      1.879270     11.246772      0.696559      7.282648   \n",
       "std       12.750946      2.973617     25.812864      4.330598     20.691196   \n",
       "min        0.689910     -0.939096     -0.953296     -0.955921     -0.963544   \n",
       "25%        5.367285      0.011745     -0.450860     -0.533870     -0.037877   \n",
       "50%       10.265320      1.120865     -0.068927     -0.222152      1.704720   \n",
       "75%       17.749564      2.879429      3.021362      0.460411      6.907265   \n",
       "max      194.885208    139.741837    317.892731    199.311951    559.553528   \n",
       "\n",
       "                CD3         NKp46          CD23          CD34         CD115  \\\n",
       "count  20000.000000  20000.000000  20000.000000  20000.000000  20000.000000   \n",
       "mean       1.957412      0.841610      0.635174      3.832098      3.274759   \n",
       "std        9.073060      2.361161      2.429690     15.530291      5.547949   \n",
       "min       -0.957609     -0.956368     -0.962759     -0.960851     -0.951100   \n",
       "25%       -0.497673     -0.436653     -0.522581     -0.202065      0.196615   \n",
       "50%       -0.161042     -0.027267     -0.198229      0.746728      1.649753   \n",
       "75%        0.643786      1.134859      0.609988      2.916438      4.366428   \n",
       "max      193.033981     44.262444     30.886175    350.304291    223.163712   \n",
       "\n",
       "               CD19         CD317           CD8          Ly6C           CD4  \\\n",
       "count  20000.000000  20000.000000  20000.000000  20000.000000  20000.000000   \n",
       "mean       2.779092      5.080735      3.900572     45.857385      9.140277   \n",
       "std        5.616888     26.281349     23.614836     86.288165     51.870401   \n",
       "min       -0.952782     -0.955540     -0.951181     -0.952593     -0.941269   \n",
       "25%       -0.412958     -0.527239     -0.510720     -0.171324     -0.405624   \n",
       "50%        0.101136     -0.210559     -0.184942      3.930560      0.100846   \n",
       "75%        3.688090      0.441300      0.593220     56.337713      1.891947   \n",
       "max       70.145615    894.920715    527.528198    933.681641   1368.364990   \n",
       "\n",
       "              CD11b          CD27       CD16_32       SiglecF         Foxp3  \\\n",
       "count  20000.000000  20000.000000  20000.000000  20000.000000  20000.000000   \n",
       "mean      61.185287      4.328650     64.579647      9.675808      0.727527   \n",
       "std      104.029546     15.949272     82.743606     26.003295      2.142129   \n",
       "min       -0.956041     -0.953131     -0.934012     -0.961858     -0.953011   \n",
       "25%       -0.116031     -0.375971     13.567613      0.202856     -0.425482   \n",
       "50%        7.096601      0.244438     37.054848      1.879903     -0.023726   \n",
       "75%       80.644081      2.270544     85.197489      5.478598      1.008633   \n",
       "max     1206.356445    315.321930   1827.831299    443.213684     49.981319   \n",
       "\n",
       "               B220           CD5        FceR1a         TCRgd          CCR7  \\\n",
       "count  20000.000000  20000.000000  20000.000000  20000.000000  20000.000000   \n",
       "mean      40.647017      9.656876      1.219676      0.039424      1.062334   \n",
       "std       71.629270     48.712210      5.298974      1.294017      5.071636   \n",
       "min       -0.959281     -0.952529     -0.953412     -0.953304     -0.955424   \n",
       "25%       -0.232208      0.139392     -0.317892     -0.551790     -0.354834   \n",
       "50%        1.471228      1.427473      0.354039     -0.262277      0.251846   \n",
       "75%       50.802129      3.915237      1.579124      0.100581      1.493933   \n",
       "max      586.384155   1211.079468    419.073181     42.786957    616.684631   \n",
       "\n",
       "               Sca1         CD49b          cKit         CD150          CD25  \\\n",
       "count  20000.000000  20000.000000  20000.000000  20000.000000  20000.000000   \n",
       "mean      38.720149      2.168544      4.746880      0.518617      0.321323   \n",
       "std      187.575628     13.630346     27.129166      1.937042      1.903206   \n",
       "min       -0.959300     -0.950866     -0.956529     -0.956209     -0.951548   \n",
       "25%       -0.183604     -0.516603     -0.479171     -0.475858     -0.517472   \n",
       "50%        0.860442     -0.192495     -0.122813     -0.112282     -0.197644   \n",
       "75%        5.340081      0.586520      1.049539      0.751492      0.456671   \n",
       "max     3131.254883    374.059692    764.139282    104.054375     55.070110   \n",
       "\n",
       "               TCRb          CD43          CD64         CD138         CD103  \\\n",
       "count  20000.000000  20000.000000  20000.000000  20000.000000  20000.000000   \n",
       "mean       2.377227     20.057795      6.546918      0.872347      0.232923   \n",
       "std       11.634843     55.730820     22.201841      2.625191      1.451478   \n",
       "min       -0.956899     -0.943958     -0.945808     -0.955067     -0.960537   \n",
       "25%       -0.495175     -0.102233      0.345299     -0.389858     -0.512231   \n",
       "50%       -0.141102      1.948316      2.086803      0.129269     -0.187583   \n",
       "75%        0.651429     14.516475      5.898952      1.236123      0.470472   \n",
       "max      312.699097    986.681458   1163.531738     99.138710     51.372639   \n",
       "\n",
       "                IgM          CD44         MHCII  \n",
       "count  20000.000000  20000.000000  20000.000000  \n",
       "mean      47.141063    111.798262    168.860568  \n",
       "std      225.841267    117.386742    358.342212  \n",
       "min       -0.948119     -0.929574     -0.934934  \n",
       "25%        0.004675     11.378628      2.912283  \n",
       "50%        1.842999     77.300793      9.495035  \n",
       "75%       31.044620    184.754883    151.142109  \n",
       "max     7097.400391   1860.849365   5880.458496  "
      ]
     },
     "execution_count": 6,
     "metadata": {},
     "output_type": "execute_result"
    }
   ],
   "source": [
    "data.describe()"
   ]
  },
  {
   "cell_type": "code",
   "execution_count": 7,
   "metadata": {},
   "outputs": [
    {
     "data": {
      "text/plain": [
       "CD45_2       20000\n",
       "Ly6G         20000\n",
       "IgD          20000\n",
       "CD11c        20000\n",
       "F480         20000\n",
       "CD3          20000\n",
       "NKp46        20000\n",
       "CD23         20000\n",
       "CD34         20000\n",
       "CD115        20000\n",
       "CD19         20000\n",
       "CD317        20000\n",
       "CD8          20000\n",
       "Ly6C         20000\n",
       "CD4          20000\n",
       "CD11b        20000\n",
       "CD27         20000\n",
       "CD16_32      20000\n",
       "SiglecF      20000\n",
       "Foxp3        20000\n",
       "B220         20000\n",
       "CD5          20000\n",
       "FceR1a       20000\n",
       "TCRgd        20000\n",
       "CCR7         20000\n",
       "Sca1         20000\n",
       "CD49b        20000\n",
       "cKit         20000\n",
       "CD150        20000\n",
       "CD25         20000\n",
       "TCRb         20000\n",
       "CD43         20000\n",
       "CD64         20000\n",
       "CD138        20000\n",
       "CD103        20000\n",
       "IgM          20000\n",
       "CD44         20000\n",
       "MHCII        20000\n",
       "cell type    20000\n",
       "dtype: int64"
      ]
     },
     "execution_count": 7,
     "metadata": {},
     "output_type": "execute_result"
    }
   ],
   "source": [
    "data.count()"
   ]
  },
  {
   "cell_type": "code",
   "execution_count": 8,
   "metadata": {},
   "outputs": [
    {
     "data": {
      "text/plain": [
       "array(['B-cell Frac A-C (pro-B cells)', 'Basophils', 'CD4 T cells',\n",
       "       'CD8 T cells', 'CLP', 'CMP', 'Classical Monocytes', 'Eosinophils',\n",
       "       'GMP', 'HSC', 'IgD- IgMpos B cells', 'IgDpos IgMpos B cells',\n",
       "       'IgM- IgD- B-cells', 'Intermediate Monocytes', 'MEP', 'MPP',\n",
       "       'Macrophages', 'NK cells', 'NKT cells', 'Non-Classical Monocytes',\n",
       "       'Plasma Cells', 'gd T cells', 'mDCs', 'pDCs'], dtype=object)"
      ]
     },
     "execution_count": 8,
     "metadata": {},
     "output_type": "execute_result"
    }
   ],
   "source": [
    "np.unique(y_df)"
   ]
  },
  {
   "cell_type": "markdown",
   "metadata": {},
   "source": [
    "### Predicting cell type\n",
    "\n",
    "The goal is to predict the cell type. Let us group the data according to the `cell type` columns:"
   ]
  },
  {
   "cell_type": "code",
   "execution_count": 9,
   "metadata": {},
   "outputs": [
    {
     "data": {
      "text/plain": [
       "cell type\n",
       "HSC                                 2\n",
       "gd T cells                         13\n",
       "CLP                                24\n",
       "MPP                                47\n",
       "mDCs                               49\n",
       "Plasma Cells                       58\n",
       "CMP                                66\n",
       "NK cells                          119\n",
       "Macrophages                       120\n",
       "B-cell Frac A-C (pro-B cells)     151\n",
       "Basophils                         160\n",
       "MEP                               197\n",
       "CD4 T cells                       224\n",
       "GMP                               228\n",
       "NKT cells                         309\n",
       "Non-Classical Monocytes           326\n",
       "CD8 T cells                       488\n",
       "IgM- IgD- B-cells                 799\n",
       "pDCs                              979\n",
       "IgD- IgMpos B cells              1957\n",
       "Eosinophils                      2108\n",
       "Intermediate Monocytes           3290\n",
       "Classical Monocytes              3851\n",
       "IgDpos IgMpos B cells            4435\n",
       "Name: CD45_2, dtype: int64"
      ]
     },
     "execution_count": 9,
     "metadata": {},
     "output_type": "execute_result"
    }
   ],
   "source": [
    "counts = data.groupby('cell type').count()['CD45_2']\n",
    "counts.sort_values()"
   ]
  },
  {
   "cell_type": "markdown",
   "metadata": {},
   "source": [
    "The class distribution is very unbalanced which explains why we will measure the performance with balanced accuracy aka macro-averaged recall."
   ]
  },
  {
   "cell_type": "markdown",
   "metadata": {},
   "source": [
    "### Some plots"
   ]
  },
  {
   "cell_type": "markdown",
   "metadata": {},
   "source": [
    "#### Features densities and co-evolution\n",
    "A scatterplot matrix allows us to visualize:\n",
    "* on the diagonal, the density estimation for each feature\n",
    "* on each of the off-diagonal plots, a scatterplot between two features. Each dot represents an instance."
   ]
  },
  {
   "cell_type": "code",
   "execution_count": 19,
   "metadata": {},
   "outputs": [
    {
     "name": "stderr",
     "output_type": "stream",
     "text": [
      "C:\\ProgramData\\Anaconda3\\lib\\site-packages\\ipykernel_launcher.py:7: FutureWarning: 'pandas.tools.plotting.scatter_matrix' is deprecated, import 'pandas.plotting.scatter_matrix' instead.\n",
      "  import sys\n"
     ]
    },
    {
     "data": {
      "image/png": "[encoded data removed]",
      "text/plain": [
       "<matplotlib.figure.Figure at 0x212fa24edd8>"
      ]
     },
     "metadata": {},
     "output_type": "display_data"
    }
   ],
   "source": [
    "from pandas.tools.plotting import scatter_matrix\n",
    "\n",
    "data_plot = data[['CD45_2', 'Ly6G', 'IgD', 'cell type']].iloc[\n",
    "    np.random.choice(len(data), 1000)]\n",
    "\n",
    "scatter_matrix(data_plot, alpha=0.2,\n",
    "               figsize=(8, 8), diagonal='kde');"
   ]
  },
  {
   "cell_type": "markdown",
   "metadata": {},
   "source": [
    "#### Plot the bivariate distributions and marginals of two variables \n",
    "\n",
    "Another way of visualizing relationships between variables is to plot their bivariate distributions."
   ]
  },
  {
   "cell_type": "code",
   "execution_count": 31,
   "metadata": {
    "scrolled": false
   },
   "outputs": [
    {
     "data": {
      "image/png": "[encoded data removed]",
      "text/plain": [
       "<matplotlib.figure.Figure at 0x178c0ec50>"
      ]
     },
     "metadata": {},
     "output_type": "display_data"
    },
    {
     "data": {
      "image/png": "[encoded data removed]",
      "text/plain": [
       "<matplotlib.figure.Figure at 0x14ebf6350>"
      ]
     },
     "metadata": {},
     "output_type": "display_data"
    }
   ],
   "source": [
    "sns.set()\n",
    "sns.set_style(\"whitegrid\")\n",
    "sns.jointplot(data_plot['CD45_2'][data_plot['cell type'] == 'IgDpos IgMpos B cells'],\n",
    "              data_plot['IgD'][data_plot['cell type'] == 'IgDpos IgMpos B cells'],\n",
    "              kind=\"kde\", size=7, space=0, color=\"b\");\n",
    "\n",
    "sns.jointplot(data_plot['CD45_2'][data_plot['cell type'] == 'Classical Monocytes'],\n",
    "              data_plot['IgD'][data_plot['cell type'] == 'Classical Monocytes'],\n",
    "              kind=\"kde\", size=7, space=0, color=\"b\");\n"
   ]
  },
  {
   "cell_type": "markdown",
   "metadata": {},
   "source": [
    "## The pipeline\n",
    "\n",
    "For submitting at the [RAMP site](http://ramp.studio), you will have to write two classes, saved in two different files:   \n",
    "* the class `FeatureExtractor`, which will be used to extract features for classification from the dataset and produce a numpy array of size (number of samples $\\times$ number of features). \n",
    "* a class `Classifier` to predict survival"
   ]
  },
  {
   "cell_type": "markdown",
   "metadata": {},
   "source": [
    "### Feature extractor"
   ]
  },
  {
   "cell_type": "markdown",
   "metadata": {},
   "source": [
    "The feature extractor implements a `transform` member function. It is saved in the file [`submissions/starting_kit/feature_extractor.py`](/edit/submissions/starting_kit/feature_extractor.py). It receives the pandas dataframe `X_df` defined at the beginning of the notebook. It should produce a numpy array representing the extracted features, which will then be used for the classification.  \n",
    "\n",
    "Note that the following code cells are *not* executed in the notebook. The notebook saves their contents in the file specified in the first line of the cell, so you can edit your submission before running the local test below and submitting it at the RAMP site."
   ]
  },
  {
   "cell_type": "code",
   "execution_count": 32,
   "metadata": {},
   "outputs": [
    {
     "name": "stdout",
     "output_type": "stream",
     "text": [
      "Overwriting submissions/starting_kit/feature_extractor.py\n"
     ]
    }
   ],
   "source": [
    "%%file submissions/starting_kit/feature_extractor.py\n",
    "class FeatureExtractor():\n",
    "    def __init__(self):\n",
    "        pass\n",
    "\n",
    "    def fit(self, X_df, y):\n",
    "        pass\n",
    "\n",
    "    def transform(self, X_df):\n",
    "        X_array = X_df.values\n",
    "        return X_array\n",
    "\n"
   ]
  },
  {
   "cell_type": "markdown",
   "metadata": {},
   "source": [
    "### Classifier"
   ]
  },
  {
   "cell_type": "markdown",
   "metadata": {},
   "source": [
    "The classifier follows a classical scikit-learn classifier template. It should be saved in the file [`submissions/starting_kit/classifier.py`](/edit/submissions/starting_kit/classifier.py). In its simplest form it takes a scikit-learn pipeline, assigns it to `self.clf` in `__init__`, then calls its `fit` and `predict_proba` functions in the corresponding member funtions."
   ]
  },
  {
   "cell_type": "code",
   "execution_count": 38,
   "metadata": {},
   "outputs": [
    {
     "name": "stdout",
     "output_type": "stream",
     "text": [
      "Overwriting submissions/starting_kit/classifier.py\n"
     ]
    }
   ],
   "source": [
    "%%file submissions/starting_kit/classifier.py\n",
    "from sklearn.base import BaseEstimator\n",
    "from sklearn.ensemble import RandomForestClassifier\n",
    "\n",
    "\n",
    "class Classifier(BaseEstimator):\n",
    "    def __init__(self):\n",
    "        pass\n",
    "\n",
    "    def fit(self, X, y):\n",
    "        self.clf = RandomForestClassifier(\n",
    "            n_estimators=2, max_leaf_nodes=2, random_state=61)\n",
    "        self.clf.fit(X, y)\n",
    "\n",
    "    def predict(self, X):\n",
    "        return self.clf.predict(X)\n",
    "\n",
    "    def predict_proba(self, X):\n",
    "        return self.clf.predict_proba(X)\n",
    "\n"
   ]
  },
  {
   "cell_type": "markdown",
   "metadata": {},
   "source": [
    "## Local testing (before submission)\n",
    "\n",
    "It is <b><span style=\"color:red\">important that you test your submission files before submitting them</span></b>. For this we provide a unit test. Note that the test runs on your files in [`submissions/starting_kit`](/tree/submissions/starting_kit), not on the classes defined in the cells of this notebook.\n",
    "\n",
    "First `pip install ramp-workflow` or install it from the [github repo](https://github.com/paris-saclay-cds/ramp-workflow). Make sure that the python files `classifier.py` and `feature_extractor.py` are in the  [`submissions/starting_kit`](/tree/submissions/starting_kit) folder, and the data `train.csv` and `test.csv` are in [`data`](/tree/data). Then run\n",
    "\n",
    "```ramp_test_submission```\n",
    "\n",
    "If it runs and print training and test errors on each fold, then you can submit the code."
   ]
  },
  {
   "cell_type": "code",
   "execution_count": 39,
   "metadata": {
    "scrolled": true
   },
   "outputs": [
    {
     "name": "stdout",
     "output_type": "stream",
     "text": [
      "Testing Cell population identification from single-cell mass cytometry data\n",
      "Reading train and test files from ./data ...\n",
      "Reading cv ...\n",
      "Training ./submissions/starting_kit ...\n",
      "CV fold 0\n",
      "\ttrain bac = 0.123\n",
      "\tvalid bac = 0.123\n",
      "\ttest bac = 0.128\n",
      "\ttrain accuracy = 0.572\n",
      "\tvalid accuracy = 0.57\n",
      "\ttest accuracy = 0.572\n",
      "CV fold 1\n",
      "\ttrain bac = 0.123\n",
      "\tvalid bac = 0.123\n",
      "\ttest bac = 0.128\n",
      "\ttrain accuracy = 0.571\n",
      "\tvalid accuracy = 0.571\n",
      "\ttest accuracy = 0.573\n",
      "CV fold 2\n",
      "\ttrain bac = 0.123\n",
      "\tvalid bac = 0.123\n",
      "\ttest bac = 0.129\n",
      "\ttrain accuracy = 0.572\n",
      "\tvalid accuracy = 0.572\n",
      "\ttest accuracy = 0.573\n",
      "CV fold 3\n",
      "\ttrain bac = 0.123\n",
      "\tvalid bac = 0.123\n",
      "\ttest bac = 0.129\n",
      "\ttrain accuracy = 0.572\n",
      "\tvalid accuracy = 0.571\n",
      "\ttest accuracy = 0.573\n",
      "CV fold 4\n",
      "\ttrain bac = 0.123\n",
      "\tvalid bac = 0.123\n",
      "\ttest bac = 0.128\n",
      "\ttrain accuracy = 0.569\n",
      "\tvalid accuracy = 0.57\n",
      "\ttest accuracy = 0.571\n",
      "CV fold 5\n",
      "\ttrain bac = 0.123\n",
      "\tvalid bac = 0.123\n",
      "\ttest bac = 0.128\n",
      "\ttrain accuracy = 0.57\n",
      "\tvalid accuracy = 0.571\n",
      "\ttest accuracy = 0.572\n",
      "CV fold 6\n",
      "\ttrain bac = 0.123\n",
      "\tvalid bac = 0.123\n",
      "\ttest bac = 0.128\n",
      "\ttrain accuracy = 0.57\n",
      "\tvalid accuracy = 0.571\n",
      "\ttest accuracy = 0.572\n",
      "CV fold 7\n",
      "\ttrain bac = 0.123\n",
      "\tvalid bac = 0.123\n",
      "\ttest bac = 0.129\n",
      "\ttrain accuracy = 0.572\n",
      "\tvalid accuracy = 0.571\n",
      "\ttest accuracy = 0.573\n",
      "----------------------------\n",
      "train bac = 0.123 ± 0.0003\n",
      "train accuracy = 0.571 ± 0.0012\n",
      "valid bac = 0.123 ± 0.0002\n",
      "valid accuracy = 0.571 ± 0.0006\n",
      "test bac = 0.128 ± 0.0002\n",
      "test accuracy = 0.572 ± 0.0008\n"
     ]
    }
   ],
   "source": [
    "!ramp_test_submission"
   ]
  },
  {
   "cell_type": "markdown",
   "metadata": {},
   "source": [
    "## Submitting to [ramp.studio](http://ramp.studio)\n",
    "\n",
    "Once you found a good feature extractor and classifier, you can submit them to [ramp.studio](http://www.ramp.studio). First, if it is your first time using RAMP, [sign up](http://www.ramp.studio/sign_up), otherwise [log in](http://www.ramp.studio/login). Then find an open event on the particular problem, for example, the event [mouse cytometry](http://www.ramp.studio/events/mouse_cytometry) for this RAMP. Sign up for the event. Both signups are controled by RAMP administrators, so there **can be a delay between asking for signup and being able to submit**.\n",
    "\n",
    "Once your signup request is accepted, you can go to your [sandbox](http://www.ramp.studio/events/mouse_cytometry/sandbox) and copy-paste (or upload) [`feature_extractor.py`](/edit/submissions/starting_kit/feature_extractor.py) and [`classifier.py`](/edit/submissions/starting_kit/classifier.py) from `submissions/starting_kit`. Save it, rename it, then submit it. The submission is trained and tested on our backend in the same way as `ramp_test_submission` does it locally. While your submission is waiting in the queue and being trained, you can find it in the \"New submissions (pending training)\" table in [my submissions](http://www.ramp.studio/events/mouse_cytometry/my_submissions). Once it is trained, you get a mail, and your submission shows up on the [public leaderboard](http://www.ramp.studio/events/mouse_cytometry/leaderboard). \n",
    "If there is an error (despite having tested your submission locally with `ramp_test_submission`), it will show up in the \"Failed submissions\" table in [my submissions](http://www.ramp.studio/events/mouse_cytometry/my_submissions). You can click on the error to see part of the trace.\n",
    "\n",
    "After submission, do not forget to give credits to the previous submissions you reused or integrated into your submission.\n",
    "\n",
    "The data set we use at the backend is usually different from what you find in the starting kit, so the score may be different.\n",
    "\n",
    "The usual way to work with RAMP is to explore solutions, add feature transformations, select models, perhaps do some AutoML/hyperopt, etc., _locally_, and checking them with `ramp_test_submission`. The script prints mean cross-validation scores \n",
    "```\n",
    "----------------------------\n",
    "train bac = 0.123 ± 0.0003\n",
    "train accuracy = 0.571 ± 0.0012\n",
    "valid bac = 0.123 ± 0.0002\n",
    "valid accuracy = 0.571 ± 0.0006\n",
    "test bac = 0.128 ± 0.0002\n",
    "test accuracy = 0.572 ± 0.0008\n",
    "```\n",
    "The official score in this RAMP (the first score column after \"historical contributivity\" on the [leaderboard](http://www.ramp.studio/events/mouse_cytometry/leaderboard)) is balanced accuracy aka macro-averaged recall, so the line that is relevant in the output of `ramp_test_submission` is `valid bac = 0.128 ± 0.0002`. When the score is good enough, you can submit it at the RAMP."
   ]
  },
  {
   "cell_type": "markdown",
   "metadata": {},
   "source": [
    "## Working in the notebook\n",
    "\n",
    "When you are developing and debugging your submission, you may want to stay in the notebook and execute the workflow step by step. You can import `problem.py` and call the ingredients directly, or even deconstruct the code from [ramp-workflow](https://github.com/paris-saclay-cds/ramp-workflow)."
   ]
  },
  {
   "cell_type": "code",
   "execution_count": 40,
   "metadata": {
    "collapsed": true
   },
   "outputs": [],
   "source": [
    "import imp\n",
    "problem = imp.load_source('', 'problem.py')"
   ]
  },
  {
   "cell_type": "markdown",
   "metadata": {},
   "source": [
    "Get the training data."
   ]
  },
  {
   "cell_type": "code",
   "execution_count": 41,
   "metadata": {
    "collapsed": true
   },
   "outputs": [],
   "source": [
    "X_train, y_train = problem.get_train_data()"
   ]
  },
  {
   "cell_type": "markdown",
   "metadata": {},
   "source": [
    "Get the first cv fold, creating training and validation indices."
   ]
  },
  {
   "cell_type": "code",
   "execution_count": 42,
   "metadata": {},
   "outputs": [
    {
     "data": {
      "text/plain": [
       "array([ 9650,  7918,  8375, ..., 17104, 12224, 16693])"
      ]
     },
     "execution_count": 42,
     "metadata": {},
     "output_type": "execute_result"
    }
   ],
   "source": [
    "train_is, test_is = list(problem.get_cv(X_train, y_train))[0]\n",
    "test_is"
   ]
  },
  {
   "cell_type": "markdown",
   "metadata": {},
   "source": [
    "Train your starting kit."
   ]
  },
  {
   "cell_type": "code",
   "execution_count": 43,
   "metadata": {
    "collapsed": true
   },
   "outputs": [],
   "source": [
    "fe, clf = problem.workflow.train_submission(\n",
    "    'submissions/starting_kit', X_train, y_train, train_is)"
   ]
  },
  {
   "cell_type": "markdown",
   "metadata": {},
   "source": [
    "Get the full prediction (train and validation)."
   ]
  },
  {
   "cell_type": "code",
   "execution_count": 44,
   "metadata": {
    "collapsed": true
   },
   "outputs": [],
   "source": [
    "y_pred = problem.workflow.test_submission((fe, clf), X_train)"
   ]
  },
  {
   "cell_type": "markdown",
   "metadata": {},
   "source": [
    "Print the training and validation scores."
   ]
  },
  {
   "cell_type": "code",
   "execution_count": 45,
   "metadata": {
    "collapsed": true
   },
   "outputs": [],
   "source": [
    "score_function = problem.score_types[0]"
   ]
  },
  {
   "cell_type": "markdown",
   "metadata": {},
   "source": [
    "`score_function` is callable, wrapping scikit-learn's `recall_score(..., average='macro')`. It expects the label index vectors, so it's easier if we wrap the predictions into `rampwf.prediction_types.multiclass` which does these transformations and call `score_function.score_function` which takes this type as input."
   ]
  },
  {
   "cell_type": "code",
   "execution_count": 51,
   "metadata": {
    "collapsed": true
   },
   "outputs": [],
   "source": [
    "ground_truth = problem.Predictions(y_true=y_train)\n",
    "prediction = problem.Predictions(y_pred=y_pred)"
   ]
  },
  {
   "cell_type": "code",
   "execution_count": 52,
   "metadata": {},
   "outputs": [
    {
     "name": "stdout",
     "output_type": "stream",
     "text": [
      "0.123362066154\n"
     ]
    }
   ],
   "source": [
    "score_train = score_function.score_function(ground_truth, prediction, train_is)\n",
    "print(score_train)"
   ]
  },
  {
   "cell_type": "code",
   "execution_count": 53,
   "metadata": {},
   "outputs": [
    {
     "name": "stdout",
     "output_type": "stream",
     "text": [
      "0.122811637813\n"
     ]
    }
   ],
   "source": [
    "score_valid = score_function.score_function(ground_truth, prediction, test_is)\n",
    "print(score_valid)"
   ]
  },
  {
   "cell_type": "markdown",
   "metadata": {},
   "source": [
    "Get the independent test data."
   ]
  },
  {
   "cell_type": "code",
   "execution_count": 54,
   "metadata": {
    "collapsed": true
   },
   "outputs": [],
   "source": [
    "X_test, y_test = problem.get_test_data()"
   ]
  },
  {
   "cell_type": "markdown",
   "metadata": {},
   "source": [
    "Test the submission on it."
   ]
  },
  {
   "cell_type": "code",
   "execution_count": 55,
   "metadata": {
    "collapsed": true
   },
   "outputs": [],
   "source": [
    "y_test_pred = problem.workflow.test_submission((fe, clf), X_test)"
   ]
  },
  {
   "cell_type": "code",
   "execution_count": 56,
   "metadata": {
    "collapsed": true
   },
   "outputs": [],
   "source": [
    "ground_truth_test = problem.Predictions(y_true=y_test)\n",
    "prediction_test = problem.Predictions(y_pred=y_test_pred)"
   ]
  },
  {
   "cell_type": "code",
   "execution_count": 57,
   "metadata": {},
   "outputs": [
    {
     "name": "stdout",
     "output_type": "stream",
     "text": [
      "0.128267513215\n"
     ]
    }
   ],
   "source": [
    "score_test = score_function.score_function(ground_truth_test, prediction_test)\n",
    "print(score_test)"
   ]
  },
  {
   "cell_type": "markdown",
   "metadata": {},
   "source": [
    "If you want to execute training step by step, go to the [`feature_extractor_classifier`](https://github.com/paris-saclay-cds/ramp-workflow/blob/master/rampwf/workflows/feature_extractor_classifier.py), [`feature_extractor`](https://github.com/paris-saclay-cds/ramp-workflow/blob/master/rampwf/workflows/feature_extractor.py), and [`classifier`](https://github.com/paris-saclay-cds/ramp-workflow/blob/master/rampwf/workflows/classifier.py) workflows and deconstruct them.\n",
    "\n",
    "First load the submission files and instantiate the feature extractor and regressor objects."
   ]
  },
  {
   "cell_type": "code",
   "execution_count": 58,
   "metadata": {
    "collapsed": true
   },
   "outputs": [],
   "source": [
    "feature_extractor = imp.load_source(\n",
    "    '', 'submissions/starting_kit/feature_extractor.py')\n",
    "fe = feature_extractor.FeatureExtractor()\n",
    "classifier = imp.load_source(\n",
    "    '', 'submissions/starting_kit/classifier.py')\n",
    "clf = classifier.Classifier()"
   ]
  },
  {
   "cell_type": "markdown",
   "metadata": {},
   "source": [
    "Select the training folds."
   ]
  },
  {
   "cell_type": "code",
   "execution_count": 59,
   "metadata": {
    "collapsed": true
   },
   "outputs": [],
   "source": [
    "X_train_train_df = X_train.iloc[train_is]\n",
    "y_train_train = y_train[train_is]"
   ]
  },
  {
   "cell_type": "markdown",
   "metadata": {},
   "source": [
    "Fit the feature extractor."
   ]
  },
  {
   "cell_type": "code",
   "execution_count": 60,
   "metadata": {
    "collapsed": true
   },
   "outputs": [],
   "source": [
    "fe.fit(X_train_train_df, y_train_train)"
   ]
  },
  {
   "cell_type": "markdown",
   "metadata": {},
   "source": [
    "Transform the training dataframe into numpy array."
   ]
  },
  {
   "cell_type": "code",
   "execution_count": 61,
   "metadata": {
    "collapsed": true
   },
   "outputs": [],
   "source": [
    "X_train_train_array = fe.transform(X_train_train_df)"
   ]
  },
  {
   "cell_type": "markdown",
   "metadata": {},
   "source": [
    "Fit the classifier."
   ]
  },
  {
   "cell_type": "code",
   "execution_count": 62,
   "metadata": {
    "collapsed": true
   },
   "outputs": [],
   "source": [
    "clf.fit(X_train_train_array, y_train_train)"
   ]
  },
  {
   "cell_type": "markdown",
   "metadata": {},
   "source": [
    "Transform the _whole_ (training + validation) dataframe into a numpy array and compute the prediction."
   ]
  },
  {
   "cell_type": "code",
   "execution_count": 63,
   "metadata": {
    "collapsed": true
   },
   "outputs": [],
   "source": [
    "X_train_array = fe.transform(X_train)\n",
    "y_pred = clf.predict_proba(X_train_array)\n",
    "ground_truth = problem.Predictions(y_true=y_train)\n",
    "prediction = problem.Predictions(y_pred=y_pred)"
   ]
  },
  {
   "cell_type": "markdown",
   "metadata": {},
   "source": [
    "Print the errors."
   ]
  },
  {
   "cell_type": "code",
   "execution_count": 64,
   "metadata": {},
   "outputs": [
    {
     "name": "stdout",
     "output_type": "stream",
     "text": [
      "0.123362066154\n"
     ]
    }
   ],
   "source": [
    "score_train = score_function.score_function(ground_truth, prediction, train_is)\n",
    "print(score_train)"
   ]
  },
  {
   "cell_type": "code",
   "execution_count": 65,
   "metadata": {},
   "outputs": [
    {
     "name": "stdout",
     "output_type": "stream",
     "text": [
      "0.122811637813\n"
     ]
    }
   ],
   "source": [
    "score_valid = score_function.score_function(ground_truth, prediction, test_is)\n",
    "print(score_valid)"
   ]
  },
  {
   "cell_type": "markdown",
   "metadata": {},
   "source": [
    "## More information\n",
    "\n",
    "You can find more information in the [README](https://github.com/paris-saclay-cds/ramp-workflow/blob/master/README.md) of the [ramp-workflow library](https://github.com/paris-saclay-cds/ramp-workflow)."
   ]
  },
  {
   "cell_type": "markdown",
   "metadata": {},
   "source": [
    "## Contact\n",
    "\n",
    "Don't hesitate to [contact us](mailto:admin@ramp.studio?subject=mouse cytometry notebook)."
   ]
  }
 ],
 "metadata": {
  "anaconda-cloud": {},
  "kernelspec": {
   "display_name": "Python 3",
   "language": "python",
   "name": "python3"
  },
  "language_info": {
   "codemirror_mode": {
    "name": "ipython",
    "version": 3
   },
   "file_extension": ".py",
   "mimetype": "text/x-python",
   "name": "python",
   "nbconvert_exporter": "python",
   "pygments_lexer": "ipython3",
   "version": "3.6.1"
  }
 },
 "nbformat": 4,
 "nbformat_minor": 1
}
