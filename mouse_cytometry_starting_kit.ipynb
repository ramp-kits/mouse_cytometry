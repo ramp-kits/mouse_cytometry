{
 "cells": [
  {
   "cell_type": "markdown",
   "metadata": {},
   "source": [
    "# [Paris Saclay Center for Data Science](http://www.datascience-paris-saclay.fr)\n",
    "\n",
    "## [RAMP on cell phenotyping](http://www.ramp.studio/problems/mouse_cytometry): population identification from single cell data\n",
    "\n",
    "_Georgios Papoutsoglou (University of Crete), Balázs Kégl (CNRS)_\n",
    "\n",
    "## Introduction\n",
    "\n",
    "\n",
    "Tissue samples are mixtures of several distinct cell types, each of which performs certain activities for the maintenance of proper tissue functioning. To carry out these activites, cells of each type are programmed to produce specific sets of membrane proteins, known as markers. These markers are usually involved in activities such as communication, adhesion, or metabolism. The specificity of a marker to an activity and, concomitantly, to a cell type makes it ideal to use for separating cells into different populations. A caveat to this task is that some surface markers will often be present on more than one cell populations.\n",
    "\n",
    "In this context, cell phenotyping is the analysis of such heterogeneous populations of cells based on the types of proteins installed on their surfaces (phenotype). The purpose of this process is to identify the presence and proportions of the various populations of interest and enable the determination of their functions in tissues. As such, cell phenotyping has led to the significant improvement of our understanding of biological mechanisms and their association with disease. \n",
    "\n",
    "Single-cell technologies, such as flow/mass cytometry, are able to detect and objectively measure the abundance of cell markers in hundreds of thousands of individual cells and acquire data about dozens of them in a matter of seconds. Flow cytometry platforms, for example, have been used for decades now as a research tool to distinguish different cell types in mixed populations by measuring up to 20 markers on a cell-by-cell basis. More recently, the advent of mass cytometry has pushed this limit up to more than 40 parameters, boosting the potential resolution of phenotyping.\n",
    "\n",
    "Until today, however, the analysis of the resulting high-dimensional datasets relies on the subjective and time-consuming _gating_, that is, a manual labeling procedure whereby cells are iteratively partitioned into populations through visual inspection by an expert using a single one-dimensional histogram or a two-dimensional scatterplot at a time. This inefficiency to handle high-dimensional data has resulted in a growing interest for the development of robust computational methods that are able to identify interesting cell populations in an automated manner. In response to such need, the goal of this challenge is to develop prediction models able to **identify cell populations from single cell mass cytometry data**.\n",
    "\n",
    "\n",
    "## Data synopsis\n",
    "\n",
    "The data is from [Samusik et al.](https://www.nature.com/nmeth/journal/v13/n6/full/nmeth.3863.html) where 38 surface markers (_features_) were measured in cells from the the bone marrow of healthy mice. The samples were analyzed and independently hand-gated by experts to identify 24 immune cell populations (_classes_).\n",
    "\n",
    "We provide a random subset of 160K cell samples (from the [>500K publicly available](https://www.dropbox.com/sh/fx83o71jmjac554/AAA5yyvE_3dKRnvQM5VoJPLba?dl=0)).\n",
    "\n",
    "Part of these data are saved in the files _train.csv_ and _test.csv_ as follows (<i>n_samples</i> being the number of cell samples, <i>n_feat</i> being the number of features/markers and <i>cell_type</i> being class labels):\n",
    "\n",
    "<ul>\n",
    "<li> each <b>row</b> corresponds to a cell sample</li>\n",
    "<li> <b>columns 1 to 38</b> contain the abundance levels of the 38 surface markers (features). Dimensions: (n_samples, n_feat)</li>\n",
    "<li><b>column 39 (<i>cell_type</i>)</b> contains the population label that each cell corresponds to according to manual gating by experts. Twenty four possible values. Dimensions: (n_samples, 1)</li>\n",
    "</ul>\n",
    "\n",
    "## Data-analysis suggestions\n",
    "\n",
    "The data provided have been normalized using internal cytometry standards. However, cytometry data are naturally log-normal, hence, a log or log-like scale is typically used to visualize and interpret the data. Commonly used scales include inverse hyperbolic sine (arcsinh), logarithmic, and logicle (also referred to as ‘‘bi-exponential’’) scales [Diggins,et al.](https://www.ncbi.nlm.nih.gov/pubmed/25979346)."
   ]
  },
  {
   "cell_type": "markdown",
   "metadata": {},
   "source": [
    "### Requirements\n",
    "\n",
    "* numpy>=1.10.0  \n",
    "* matplotlib>=1.5.0 \n",
    "* pandas>=0.19.0  \n",
    "* scikit-learn>=0.17 (different syntaxes for v0.17 and v0.18)   \n",
    "* seaborn>=0.7.1"
   ]
  },
  {
   "cell_type": "code",
   "execution_count": 1,
   "metadata": {
    "collapsed": true
   },
   "outputs": [],
   "source": [
    "%matplotlib inline\n",
    "import os\n",
    "import glob\n",
    "import numpy as np\n",
    "from scipy import io\n",
    "import matplotlib.pyplot as plt\n",
    "import pandas as pd\n",
    "import seaborn as sns\n",
    "pd.options.display.max_columns = 40"
   ]
  },
  {
   "cell_type": "markdown",
   "metadata": {},
   "source": [
    "## Exploratory data analysis"
   ]
  },
  {
   "cell_type": "markdown",
   "metadata": {},
   "source": [
    "### Loading the data"
   ]
  },
  {
   "cell_type": "code",
   "execution_count": 2,
   "metadata": {
    "scrolled": true
   },
   "outputs": [
    {
     "data": {
      "text/html": [
       "<div>\n",
       "<table border=\"1\" class=\"dataframe\">\n",
       "  <thead>\n",
       "    <tr style=\"text-align: right;\">\n",
       "      <th></th>\n",
       "      <th>CD45_2</th>\n",
       "      <th>Ly6G</th>\n",
       "      <th>IgD</th>\n",
       "      <th>CD11c</th>\n",
       "      <th>F480</th>\n",
       "      <th>CD3</th>\n",
       "      <th>NKp46</th>\n",
       "      <th>CD23</th>\n",
       "      <th>CD34</th>\n",
       "      <th>CD115</th>\n",
       "      <th>CD19</th>\n",
       "      <th>CD317</th>\n",
       "      <th>CD8</th>\n",
       "      <th>Ly6C</th>\n",
       "      <th>CD4</th>\n",
       "      <th>CD11b</th>\n",
       "      <th>CD27</th>\n",
       "      <th>CD16_32</th>\n",
       "      <th>SiglecF</th>\n",
       "      <th>Foxp3</th>\n",
       "      <th>B220</th>\n",
       "      <th>CD5</th>\n",
       "      <th>FceR1a</th>\n",
       "      <th>TCRgd</th>\n",
       "      <th>CCR7</th>\n",
       "      <th>Sca1</th>\n",
       "      <th>CD49b</th>\n",
       "      <th>cKit</th>\n",
       "      <th>CD150</th>\n",
       "      <th>CD25</th>\n",
       "      <th>TCRb</th>\n",
       "      <th>CD43</th>\n",
       "      <th>CD64</th>\n",
       "      <th>CD138</th>\n",
       "      <th>CD103</th>\n",
       "      <th>IgM</th>\n",
       "      <th>CD44</th>\n",
       "      <th>MHCII</th>\n",
       "      <th>replicate</th>\n",
       "    </tr>\n",
       "  </thead>\n",
       "  <tbody>\n",
       "    <tr>\n",
       "      <th>0</th>\n",
       "      <td>25.322300</td>\n",
       "      <td>-0.414878</td>\n",
       "      <td>19.072302</td>\n",
       "      <td>-0.406325</td>\n",
       "      <td>8.004113</td>\n",
       "      <td>-0.226281</td>\n",
       "      <td>-0.693795</td>\n",
       "      <td>-0.502405</td>\n",
       "      <td>0.214797</td>\n",
       "      <td>-0.651973</td>\n",
       "      <td>7.006814</td>\n",
       "      <td>1.082769</td>\n",
       "      <td>0.030035</td>\n",
       "      <td>-0.296310</td>\n",
       "      <td>-0.660964</td>\n",
       "      <td>8.775167</td>\n",
       "      <td>-0.275792</td>\n",
       "      <td>15.888521</td>\n",
       "      <td>1.915515</td>\n",
       "      <td>-0.773721</td>\n",
       "      <td>21.440584</td>\n",
       "      <td>-0.833507</td>\n",
       "      <td>4.223345</td>\n",
       "      <td>-0.597891</td>\n",
       "      <td>-0.823490</td>\n",
       "      <td>17.817902</td>\n",
       "      <td>-0.160072</td>\n",
       "      <td>1.121113</td>\n",
       "      <td>-0.836055</td>\n",
       "      <td>-0.190984</td>\n",
       "      <td>-0.014425</td>\n",
       "      <td>0.783888</td>\n",
       "      <td>1.267933</td>\n",
       "      <td>1.781378</td>\n",
       "      <td>6.060744</td>\n",
       "      <td>143.941238</td>\n",
       "      <td>1.556530</td>\n",
       "      <td>433.069550</td>\n",
       "      <td>1</td>\n",
       "    </tr>\n",
       "    <tr>\n",
       "      <th>1</th>\n",
       "      <td>5.688966</td>\n",
       "      <td>-0.656603</td>\n",
       "      <td>1.936562</td>\n",
       "      <td>-0.338733</td>\n",
       "      <td>-0.019797</td>\n",
       "      <td>-0.710901</td>\n",
       "      <td>-0.262018</td>\n",
       "      <td>-0.707716</td>\n",
       "      <td>-0.223714</td>\n",
       "      <td>-0.343710</td>\n",
       "      <td>-0.097053</td>\n",
       "      <td>-0.267780</td>\n",
       "      <td>1.114447</td>\n",
       "      <td>-0.147502</td>\n",
       "      <td>-0.531843</td>\n",
       "      <td>35.129585</td>\n",
       "      <td>-0.285497</td>\n",
       "      <td>368.874481</td>\n",
       "      <td>19.613203</td>\n",
       "      <td>0.662094</td>\n",
       "      <td>0.018612</td>\n",
       "      <td>-0.246291</td>\n",
       "      <td>5.381715</td>\n",
       "      <td>-0.186779</td>\n",
       "      <td>-0.510146</td>\n",
       "      <td>-0.166597</td>\n",
       "      <td>103.653893</td>\n",
       "      <td>1.673315</td>\n",
       "      <td>-0.150073</td>\n",
       "      <td>-0.253155</td>\n",
       "      <td>-0.380198</td>\n",
       "      <td>-0.738412</td>\n",
       "      <td>-0.249999</td>\n",
       "      <td>-0.345677</td>\n",
       "      <td>-0.706774</td>\n",
       "      <td>-0.649381</td>\n",
       "      <td>42.760521</td>\n",
       "      <td>0.370612</td>\n",
       "      <td>1</td>\n",
       "    </tr>\n",
       "    <tr>\n",
       "      <th>2</th>\n",
       "      <td>16.577675</td>\n",
       "      <td>3.037624</td>\n",
       "      <td>28.618662</td>\n",
       "      <td>-0.226679</td>\n",
       "      <td>0.698736</td>\n",
       "      <td>-0.687407</td>\n",
       "      <td>-0.594474</td>\n",
       "      <td>4.009264</td>\n",
       "      <td>-0.182212</td>\n",
       "      <td>1.097268</td>\n",
       "      <td>4.403724</td>\n",
       "      <td>0.295415</td>\n",
       "      <td>-0.489098</td>\n",
       "      <td>-0.172496</td>\n",
       "      <td>-0.383780</td>\n",
       "      <td>-0.418165</td>\n",
       "      <td>-0.393277</td>\n",
       "      <td>8.735498</td>\n",
       "      <td>4.567228</td>\n",
       "      <td>3.064497</td>\n",
       "      <td>138.576797</td>\n",
       "      <td>4.661004</td>\n",
       "      <td>1.745882</td>\n",
       "      <td>-0.504398</td>\n",
       "      <td>-0.194553</td>\n",
       "      <td>35.861137</td>\n",
       "      <td>-0.782560</td>\n",
       "      <td>-0.451337</td>\n",
       "      <td>0.265020</td>\n",
       "      <td>-0.760213</td>\n",
       "      <td>-0.633052</td>\n",
       "      <td>-0.371888</td>\n",
       "      <td>4.576766</td>\n",
       "      <td>-0.538884</td>\n",
       "      <td>-0.057883</td>\n",
       "      <td>19.495363</td>\n",
       "      <td>2.384282</td>\n",
       "      <td>501.027222</td>\n",
       "      <td>1</td>\n",
       "    </tr>\n",
       "    <tr>\n",
       "      <th>3</th>\n",
       "      <td>12.619972</td>\n",
       "      <td>-0.135255</td>\n",
       "      <td>-0.200250</td>\n",
       "      <td>0.760378</td>\n",
       "      <td>10.994702</td>\n",
       "      <td>0.818546</td>\n",
       "      <td>-0.435885</td>\n",
       "      <td>0.548840</td>\n",
       "      <td>6.483472</td>\n",
       "      <td>1.808445</td>\n",
       "      <td>-0.004943</td>\n",
       "      <td>-0.509837</td>\n",
       "      <td>-0.203738</td>\n",
       "      <td>4.071029</td>\n",
       "      <td>0.285222</td>\n",
       "      <td>39.121468</td>\n",
       "      <td>-0.605241</td>\n",
       "      <td>94.969742</td>\n",
       "      <td>98.702667</td>\n",
       "      <td>7.406890</td>\n",
       "      <td>-0.492408</td>\n",
       "      <td>1.794403</td>\n",
       "      <td>0.737259</td>\n",
       "      <td>-0.581589</td>\n",
       "      <td>-0.105200</td>\n",
       "      <td>0.355662</td>\n",
       "      <td>8.762753</td>\n",
       "      <td>0.326256</td>\n",
       "      <td>-0.565969</td>\n",
       "      <td>-0.392343</td>\n",
       "      <td>1.538817</td>\n",
       "      <td>2.087312</td>\n",
       "      <td>2.868069</td>\n",
       "      <td>0.666312</td>\n",
       "      <td>2.692082</td>\n",
       "      <td>1.417462</td>\n",
       "      <td>235.478745</td>\n",
       "      <td>2.039408</td>\n",
       "      <td>1</td>\n",
       "    </tr>\n",
       "    <tr>\n",
       "      <th>4</th>\n",
       "      <td>41.787132</td>\n",
       "      <td>-0.718017</td>\n",
       "      <td>0.239240</td>\n",
       "      <td>-0.602358</td>\n",
       "      <td>1.000802</td>\n",
       "      <td>-0.478795</td>\n",
       "      <td>-0.710591</td>\n",
       "      <td>-0.145891</td>\n",
       "      <td>10.214432</td>\n",
       "      <td>3.836318</td>\n",
       "      <td>-0.619562</td>\n",
       "      <td>207.961685</td>\n",
       "      <td>7.600501</td>\n",
       "      <td>28.485512</td>\n",
       "      <td>0.368853</td>\n",
       "      <td>-0.050024</td>\n",
       "      <td>-0.166081</td>\n",
       "      <td>1.162022</td>\n",
       "      <td>0.442354</td>\n",
       "      <td>-0.546725</td>\n",
       "      <td>73.401352</td>\n",
       "      <td>0.287523</td>\n",
       "      <td>2.637238</td>\n",
       "      <td>2.915704</td>\n",
       "      <td>15.528143</td>\n",
       "      <td>1369.792358</td>\n",
       "      <td>33.122932</td>\n",
       "      <td>0.404252</td>\n",
       "      <td>-0.776655</td>\n",
       "      <td>-0.562648</td>\n",
       "      <td>-0.677347</td>\n",
       "      <td>-0.102858</td>\n",
       "      <td>-0.533857</td>\n",
       "      <td>-0.012488</td>\n",
       "      <td>-0.681483</td>\n",
       "      <td>0.039034</td>\n",
       "      <td>18.257036</td>\n",
       "      <td>30.230536</td>\n",
       "      <td>1</td>\n",
       "    </tr>\n",
       "  </tbody>\n",
       "</table>\n",
       "</div>"
      ],
      "text/plain": [
       "      CD45_2      Ly6G        IgD     CD11c       F480       CD3     NKp46  \\\n",
       "0  25.322300 -0.414878  19.072302 -0.406325   8.004113 -0.226281 -0.693795   \n",
       "1   5.688966 -0.656603   1.936562 -0.338733  -0.019797 -0.710901 -0.262018   \n",
       "2  16.577675  3.037624  28.618662 -0.226679   0.698736 -0.687407 -0.594474   \n",
       "3  12.619972 -0.135255  -0.200250  0.760378  10.994702  0.818546 -0.435885   \n",
       "4  41.787132 -0.718017   0.239240 -0.602358   1.000802 -0.478795 -0.710591   \n",
       "\n",
       "       CD23       CD34     CD115      CD19       CD317       CD8       Ly6C  \\\n",
       "0 -0.502405   0.214797 -0.651973  7.006814    1.082769  0.030035  -0.296310   \n",
       "1 -0.707716  -0.223714 -0.343710 -0.097053   -0.267780  1.114447  -0.147502   \n",
       "2  4.009264  -0.182212  1.097268  4.403724    0.295415 -0.489098  -0.172496   \n",
       "3  0.548840   6.483472  1.808445 -0.004943   -0.509837 -0.203738   4.071029   \n",
       "4 -0.145891  10.214432  3.836318 -0.619562  207.961685  7.600501  28.485512   \n",
       "\n",
       "        CD4      CD11b      CD27     CD16_32    SiglecF     Foxp3        B220  \\\n",
       "0 -0.660964   8.775167 -0.275792   15.888521   1.915515 -0.773721   21.440584   \n",
       "1 -0.531843  35.129585 -0.285497  368.874481  19.613203  0.662094    0.018612   \n",
       "2 -0.383780  -0.418165 -0.393277    8.735498   4.567228  3.064497  138.576797   \n",
       "3  0.285222  39.121468 -0.605241   94.969742  98.702667  7.406890   -0.492408   \n",
       "4  0.368853  -0.050024 -0.166081    1.162022   0.442354 -0.546725   73.401352   \n",
       "\n",
       "        CD5    FceR1a     TCRgd       CCR7         Sca1       CD49b      cKit  \\\n",
       "0 -0.833507  4.223345 -0.597891  -0.823490    17.817902   -0.160072  1.121113   \n",
       "1 -0.246291  5.381715 -0.186779  -0.510146    -0.166597  103.653893  1.673315   \n",
       "2  4.661004  1.745882 -0.504398  -0.194553    35.861137   -0.782560 -0.451337   \n",
       "3  1.794403  0.737259 -0.581589  -0.105200     0.355662    8.762753  0.326256   \n",
       "4  0.287523  2.637238  2.915704  15.528143  1369.792358   33.122932  0.404252   \n",
       "\n",
       "      CD150      CD25      TCRb      CD43      CD64     CD138     CD103  \\\n",
       "0 -0.836055 -0.190984 -0.014425  0.783888  1.267933  1.781378  6.060744   \n",
       "1 -0.150073 -0.253155 -0.380198 -0.738412 -0.249999 -0.345677 -0.706774   \n",
       "2  0.265020 -0.760213 -0.633052 -0.371888  4.576766 -0.538884 -0.057883   \n",
       "3 -0.565969 -0.392343  1.538817  2.087312  2.868069  0.666312  2.692082   \n",
       "4 -0.776655 -0.562648 -0.677347 -0.102858 -0.533857 -0.012488 -0.681483   \n",
       "\n",
       "          IgM        CD44       MHCII  replicate  \n",
       "0  143.941238    1.556530  433.069550          1  \n",
       "1   -0.649381   42.760521    0.370612          1  \n",
       "2   19.495363    2.384282  501.027222          1  \n",
       "3    1.417462  235.478745    2.039408          1  \n",
       "4    0.039034   18.257036   30.230536          1  "
      ]
     },
     "execution_count": 2,
     "metadata": {},
     "output_type": "execute_result"
    }
   ],
   "source": [
    "train_filename = 'data/train.csv.gz'\n",
    "data = pd.read_csv(train_filename)\n",
    "y_df = data['cell type']\n",
    "X_df = data.drop(['cell type'], axis=1)\n",
    "X_df.head(5)"
   ]
  },
  {
   "cell_type": "code",
   "execution_count": 3,
   "metadata": {},
   "outputs": [
    {
     "data": {
      "text/plain": [
       "64000"
      ]
     },
     "execution_count": 3,
     "metadata": {},
     "output_type": "execute_result"
    }
   ],
   "source": [
    "len(X_df)"
   ]
  },
  {
   "cell_type": "code",
   "execution_count": 4,
   "metadata": {},
   "outputs": [
    {
     "data": {
      "text/plain": [
       "0          IgDpos IgMpos B cells\n",
       "1                    Eosinophils\n",
       "2          IgDpos IgMpos B cells\n",
       "3                    Eosinophils\n",
       "4                           pDCs\n",
       "5          IgDpos IgMpos B cells\n",
       "6            Classical Monocytes\n",
       "7            IgD- IgMpos B cells\n",
       "8            Classical Monocytes\n",
       "9         Intermediate Monocytes\n",
       "10           Classical Monocytes\n",
       "11           Classical Monocytes\n",
       "12           Classical Monocytes\n",
       "13                          pDCs\n",
       "14           IgD- IgMpos B cells\n",
       "15       Non-Classical Monocytes\n",
       "16                     NKT cells\n",
       "17           Classical Monocytes\n",
       "18           Classical Monocytes\n",
       "19         IgDpos IgMpos B cells\n",
       "20           Classical Monocytes\n",
       "21        Intermediate Monocytes\n",
       "22           Classical Monocytes\n",
       "23           Classical Monocytes\n",
       "24           IgD- IgMpos B cells\n",
       "25        Intermediate Monocytes\n",
       "26                     NKT cells\n",
       "27        Intermediate Monocytes\n",
       "28           Classical Monocytes\n",
       "29             IgM- IgD- B-cells\n",
       "                  ...           \n",
       "63970                 gd T cells\n",
       "63971                Eosinophils\n",
       "63972        IgD- IgMpos B cells\n",
       "63973                CD8 T cells\n",
       "63974        IgD- IgMpos B cells\n",
       "63975        Classical Monocytes\n",
       "63976                Eosinophils\n",
       "63977     Intermediate Monocytes\n",
       "63978      IgDpos IgMpos B cells\n",
       "63979                       pDCs\n",
       "63980     Intermediate Monocytes\n",
       "63981                Eosinophils\n",
       "63982      IgDpos IgMpos B cells\n",
       "63983                Eosinophils\n",
       "63984        IgD- IgMpos B cells\n",
       "63985        Classical Monocytes\n",
       "63986    Non-Classical Monocytes\n",
       "63987     Intermediate Monocytes\n",
       "63988                       pDCs\n",
       "63989                Eosinophils\n",
       "63990     Intermediate Monocytes\n",
       "63991      IgDpos IgMpos B cells\n",
       "63992      IgDpos IgMpos B cells\n",
       "63993      IgDpos IgMpos B cells\n",
       "63994                       pDCs\n",
       "63995      IgDpos IgMpos B cells\n",
       "63996        IgD- IgMpos B cells\n",
       "63997                Eosinophils\n",
       "63998                Eosinophils\n",
       "63999                  NKT cells\n",
       "Name: cell type, dtype: object"
      ]
     },
     "execution_count": 4,
     "metadata": {},
     "output_type": "execute_result"
    }
   ],
   "source": [
    "y_df"
   ]
  },
  {
   "cell_type": "code",
   "execution_count": 5,
   "metadata": {},
   "outputs": [
    {
     "data": {
      "text/html": [
       "<div>\n",
       "<table border=\"1\" class=\"dataframe\">\n",
       "  <thead>\n",
       "    <tr style=\"text-align: right;\">\n",
       "      <th></th>\n",
       "      <th>CD45_2</th>\n",
       "      <th>Ly6G</th>\n",
       "      <th>IgD</th>\n",
       "      <th>CD11c</th>\n",
       "      <th>F480</th>\n",
       "      <th>CD3</th>\n",
       "      <th>NKp46</th>\n",
       "      <th>CD23</th>\n",
       "      <th>CD34</th>\n",
       "      <th>CD115</th>\n",
       "      <th>CD19</th>\n",
       "      <th>CD317</th>\n",
       "      <th>CD8</th>\n",
       "      <th>Ly6C</th>\n",
       "      <th>CD4</th>\n",
       "      <th>CD11b</th>\n",
       "      <th>CD27</th>\n",
       "      <th>CD16_32</th>\n",
       "      <th>SiglecF</th>\n",
       "      <th>Foxp3</th>\n",
       "      <th>B220</th>\n",
       "      <th>CD5</th>\n",
       "      <th>FceR1a</th>\n",
       "      <th>TCRgd</th>\n",
       "      <th>CCR7</th>\n",
       "      <th>Sca1</th>\n",
       "      <th>CD49b</th>\n",
       "      <th>cKit</th>\n",
       "      <th>CD150</th>\n",
       "      <th>CD25</th>\n",
       "      <th>TCRb</th>\n",
       "      <th>CD43</th>\n",
       "      <th>CD64</th>\n",
       "      <th>CD138</th>\n",
       "      <th>CD103</th>\n",
       "      <th>IgM</th>\n",
       "      <th>CD44</th>\n",
       "      <th>MHCII</th>\n",
       "      <th>replicate</th>\n",
       "    </tr>\n",
       "  </thead>\n",
       "  <tbody>\n",
       "    <tr>\n",
       "      <th>count</th>\n",
       "      <td>64000.000000</td>\n",
       "      <td>64000.000000</td>\n",
       "      <td>64000.000000</td>\n",
       "      <td>64000.000000</td>\n",
       "      <td>64000.000000</td>\n",
       "      <td>64000.000000</td>\n",
       "      <td>64000.000000</td>\n",
       "      <td>64000.000000</td>\n",
       "      <td>64000.000000</td>\n",
       "      <td>64000.000000</td>\n",
       "      <td>64000.000000</td>\n",
       "      <td>64000.000000</td>\n",
       "      <td>64000.000000</td>\n",
       "      <td>64000.000000</td>\n",
       "      <td>64000.000000</td>\n",
       "      <td>64000.000000</td>\n",
       "      <td>64000.000000</td>\n",
       "      <td>64000.000000</td>\n",
       "      <td>64000.000000</td>\n",
       "      <td>64000.000000</td>\n",
       "      <td>64000.000000</td>\n",
       "      <td>64000.000000</td>\n",
       "      <td>64000.000000</td>\n",
       "      <td>64000.000000</td>\n",
       "      <td>64000.000000</td>\n",
       "      <td>64000.000000</td>\n",
       "      <td>64000.000000</td>\n",
       "      <td>64000.000000</td>\n",
       "      <td>64000.000000</td>\n",
       "      <td>64000.000000</td>\n",
       "      <td>64000.000000</td>\n",
       "      <td>64000.000000</td>\n",
       "      <td>64000.000000</td>\n",
       "      <td>64000.000000</td>\n",
       "      <td>64000.000000</td>\n",
       "      <td>64000.000000</td>\n",
       "      <td>64000.000000</td>\n",
       "      <td>64000.000000</td>\n",
       "      <td>64000.000000</td>\n",
       "    </tr>\n",
       "    <tr>\n",
       "      <th>mean</th>\n",
       "      <td>14.990924</td>\n",
       "      <td>1.856162</td>\n",
       "      <td>10.519870</td>\n",
       "      <td>0.744739</td>\n",
       "      <td>7.199806</td>\n",
       "      <td>1.996373</td>\n",
       "      <td>0.854031</td>\n",
       "      <td>0.500074</td>\n",
       "      <td>4.374763</td>\n",
       "      <td>3.383336</td>\n",
       "      <td>2.544937</td>\n",
       "      <td>5.845469</td>\n",
       "      <td>3.707274</td>\n",
       "      <td>56.651162</td>\n",
       "      <td>9.217409</td>\n",
       "      <td>68.020534</td>\n",
       "      <td>4.763361</td>\n",
       "      <td>66.271558</td>\n",
       "      <td>10.252683</td>\n",
       "      <td>0.745636</td>\n",
       "      <td>37.702787</td>\n",
       "      <td>9.788307</td>\n",
       "      <td>1.241115</td>\n",
       "      <td>0.039797</td>\n",
       "      <td>1.054302</td>\n",
       "      <td>45.340457</td>\n",
       "      <td>2.212637</td>\n",
       "      <td>5.371156</td>\n",
       "      <td>0.540267</td>\n",
       "      <td>0.289413</td>\n",
       "      <td>2.526127</td>\n",
       "      <td>21.150531</td>\n",
       "      <td>6.838903</td>\n",
       "      <td>0.880665</td>\n",
       "      <td>0.239405</td>\n",
       "      <td>46.072885</td>\n",
       "      <td>120.200804</td>\n",
       "      <td>162.636111</td>\n",
       "      <td>2.500000</td>\n",
       "    </tr>\n",
       "    <tr>\n",
       "      <th>std</th>\n",
       "      <td>13.730517</td>\n",
       "      <td>2.710905</td>\n",
       "      <td>24.678614</td>\n",
       "      <td>4.300934</td>\n",
       "      <td>18.859903</td>\n",
       "      <td>9.405244</td>\n",
       "      <td>2.409622</td>\n",
       "      <td>2.160729</td>\n",
       "      <td>18.159928</td>\n",
       "      <td>5.350769</td>\n",
       "      <td>5.472448</td>\n",
       "      <td>28.268440</td>\n",
       "      <td>22.687939</td>\n",
       "      <td>99.233057</td>\n",
       "      <td>50.442712</td>\n",
       "      <td>108.814925</td>\n",
       "      <td>17.561078</td>\n",
       "      <td>81.241472</td>\n",
       "      <td>26.909076</td>\n",
       "      <td>2.235865</td>\n",
       "      <td>68.542703</td>\n",
       "      <td>49.315548</td>\n",
       "      <td>3.924156</td>\n",
       "      <td>1.316292</td>\n",
       "      <td>2.854488</td>\n",
       "      <td>212.254998</td>\n",
       "      <td>14.186391</td>\n",
       "      <td>30.554093</td>\n",
       "      <td>1.961203</td>\n",
       "      <td>2.062137</td>\n",
       "      <td>12.836736</td>\n",
       "      <td>58.417741</td>\n",
       "      <td>20.391171</td>\n",
       "      <td>2.625042</td>\n",
       "      <td>1.536848</td>\n",
       "      <td>227.901719</td>\n",
       "      <td>120.013352</td>\n",
       "      <td>350.503770</td>\n",
       "      <td>1.118043</td>\n",
       "    </tr>\n",
       "    <tr>\n",
       "      <th>min</th>\n",
       "      <td>0.688541</td>\n",
       "      <td>-0.961212</td>\n",
       "      <td>-0.955516</td>\n",
       "      <td>-0.957656</td>\n",
       "      <td>-0.963544</td>\n",
       "      <td>-0.954649</td>\n",
       "      <td>-0.957595</td>\n",
       "      <td>-0.955024</td>\n",
       "      <td>-0.963577</td>\n",
       "      <td>-0.957363</td>\n",
       "      <td>-0.955344</td>\n",
       "      <td>-0.956809</td>\n",
       "      <td>-0.956715</td>\n",
       "      <td>-0.961685</td>\n",
       "      <td>-0.958159</td>\n",
       "      <td>-0.956260</td>\n",
       "      <td>-0.962440</td>\n",
       "      <td>-0.936660</td>\n",
       "      <td>-0.961858</td>\n",
       "      <td>-0.952520</td>\n",
       "      <td>-0.952209</td>\n",
       "      <td>-0.954849</td>\n",
       "      <td>-0.961525</td>\n",
       "      <td>-0.958681</td>\n",
       "      <td>-0.953416</td>\n",
       "      <td>-0.955167</td>\n",
       "      <td>-0.960603</td>\n",
       "      <td>-0.955560</td>\n",
       "      <td>-0.960407</td>\n",
       "      <td>-0.954603</td>\n",
       "      <td>-0.959976</td>\n",
       "      <td>-0.955918</td>\n",
       "      <td>-0.955013</td>\n",
       "      <td>-0.955370</td>\n",
       "      <td>-0.960537</td>\n",
       "      <td>-0.952233</td>\n",
       "      <td>-0.927464</td>\n",
       "      <td>-0.951164</td>\n",
       "      <td>1.000000</td>\n",
       "    </tr>\n",
       "    <tr>\n",
       "      <th>25%</th>\n",
       "      <td>6.138587</td>\n",
       "      <td>0.021828</td>\n",
       "      <td>-0.458477</td>\n",
       "      <td>-0.532739</td>\n",
       "      <td>0.031501</td>\n",
       "      <td>-0.501069</td>\n",
       "      <td>-0.428413</td>\n",
       "      <td>-0.525818</td>\n",
       "      <td>-0.184206</td>\n",
       "      <td>0.265223</td>\n",
       "      <td>-0.426032</td>\n",
       "      <td>-0.522950</td>\n",
       "      <td>-0.506049</td>\n",
       "      <td>-0.104224</td>\n",
       "      <td>-0.383094</td>\n",
       "      <td>-0.042794</td>\n",
       "      <td>-0.358163</td>\n",
       "      <td>14.419598</td>\n",
       "      <td>0.244718</td>\n",
       "      <td>-0.427223</td>\n",
       "      <td>-0.266084</td>\n",
       "      <td>0.191124</td>\n",
       "      <td>-0.310505</td>\n",
       "      <td>-0.558397</td>\n",
       "      <td>-0.362051</td>\n",
       "      <td>-0.160783</td>\n",
       "      <td>-0.512258</td>\n",
       "      <td>-0.475403</td>\n",
       "      <td>-0.470028</td>\n",
       "      <td>-0.525302</td>\n",
       "      <td>-0.487358</td>\n",
       "      <td>-0.055279</td>\n",
       "      <td>0.473218</td>\n",
       "      <td>-0.382427</td>\n",
       "      <td>-0.513516</td>\n",
       "      <td>-0.031417</td>\n",
       "      <td>12.697038</td>\n",
       "      <td>2.779469</td>\n",
       "      <td>1.750000</td>\n",
       "    </tr>\n",
       "    <tr>\n",
       "      <th>50%</th>\n",
       "      <td>11.285681</td>\n",
       "      <td>1.125305</td>\n",
       "      <td>-0.070340</td>\n",
       "      <td>-0.218408</td>\n",
       "      <td>1.919865</td>\n",
       "      <td>-0.161698</td>\n",
       "      <td>-0.018963</td>\n",
       "      <td>-0.208224</td>\n",
       "      <td>0.795588</td>\n",
       "      <td>1.776719</td>\n",
       "      <td>-0.002770</td>\n",
       "      <td>-0.206211</td>\n",
       "      <td>-0.172397</td>\n",
       "      <td>7.166169</td>\n",
       "      <td>0.232776</td>\n",
       "      <td>15.101614</td>\n",
       "      <td>0.323724</td>\n",
       "      <td>39.586920</td>\n",
       "      <td>1.934582</td>\n",
       "      <td>-0.018602</td>\n",
       "      <td>0.976149</td>\n",
       "      <td>1.474529</td>\n",
       "      <td>0.361529</td>\n",
       "      <td>-0.269955</td>\n",
       "      <td>0.239995</td>\n",
       "      <td>1.032405</td>\n",
       "      <td>-0.178287</td>\n",
       "      <td>-0.106894</td>\n",
       "      <td>-0.097116</td>\n",
       "      <td>-0.205850</td>\n",
       "      <td>-0.134647</td>\n",
       "      <td>2.225038</td>\n",
       "      <td>2.404246</td>\n",
       "      <td>0.140192</td>\n",
       "      <td>-0.185953</td>\n",
       "      <td>1.577631</td>\n",
       "      <td>92.549377</td>\n",
       "      <td>8.538497</td>\n",
       "      <td>2.500000</td>\n",
       "    </tr>\n",
       "    <tr>\n",
       "      <th>75%</th>\n",
       "      <td>19.368626</td>\n",
       "      <td>2.879700</td>\n",
       "      <td>2.622732</td>\n",
       "      <td>0.462946</td>\n",
       "      <td>7.214267</td>\n",
       "      <td>0.655443</td>\n",
       "      <td>1.166935</td>\n",
       "      <td>0.522239</td>\n",
       "      <td>3.085984</td>\n",
       "      <td>4.567230</td>\n",
       "      <td>3.175143</td>\n",
       "      <td>0.498927</td>\n",
       "      <td>0.640204</td>\n",
       "      <td>75.573193</td>\n",
       "      <td>2.198896</td>\n",
       "      <td>95.450727</td>\n",
       "      <td>2.387471</td>\n",
       "      <td>89.560493</td>\n",
       "      <td>5.653902</td>\n",
       "      <td>1.043876</td>\n",
       "      <td>45.180740</td>\n",
       "      <td>4.057003</td>\n",
       "      <td>1.603233</td>\n",
       "      <td>0.095968</td>\n",
       "      <td>1.478141</td>\n",
       "      <td>6.054978</td>\n",
       "      <td>0.639575</td>\n",
       "      <td>1.202934</td>\n",
       "      <td>0.766721</td>\n",
       "      <td>0.423269</td>\n",
       "      <td>0.658424</td>\n",
       "      <td>15.104270</td>\n",
       "      <td>6.757323</td>\n",
       "      <td>1.274122</td>\n",
       "      <td>0.479075</td>\n",
       "      <td>26.643014</td>\n",
       "      <td>195.627972</td>\n",
       "      <td>129.669563</td>\n",
       "      <td>3.250000</td>\n",
       "    </tr>\n",
       "    <tr>\n",
       "      <th>max</th>\n",
       "      <td>265.992279</td>\n",
       "      <td>99.542442</td>\n",
       "      <td>251.426910</td>\n",
       "      <td>224.745270</td>\n",
       "      <td>695.577881</td>\n",
       "      <td>210.105545</td>\n",
       "      <td>93.540810</td>\n",
       "      <td>40.675377</td>\n",
       "      <td>448.542725</td>\n",
       "      <td>187.677826</td>\n",
       "      <td>102.085670</td>\n",
       "      <td>531.240967</td>\n",
       "      <td>635.897156</td>\n",
       "      <td>1738.424683</td>\n",
       "      <td>1370.197998</td>\n",
       "      <td>1060.519409</td>\n",
       "      <td>329.541473</td>\n",
       "      <td>2177.363281</td>\n",
       "      <td>495.177490</td>\n",
       "      <td>98.660614</td>\n",
       "      <td>728.970642</td>\n",
       "      <td>1731.524658</td>\n",
       "      <td>192.000076</td>\n",
       "      <td>95.524033</td>\n",
       "      <td>317.294464</td>\n",
       "      <td>3111.860107</td>\n",
       "      <td>653.011597</td>\n",
       "      <td>1157.092041</td>\n",
       "      <td>83.264595</td>\n",
       "      <td>251.272598</td>\n",
       "      <td>315.617554</td>\n",
       "      <td>1108.835693</td>\n",
       "      <td>1115.901001</td>\n",
       "      <td>132.380600</td>\n",
       "      <td>109.629303</td>\n",
       "      <td>7138.376465</td>\n",
       "      <td>3007.350342</td>\n",
       "      <td>6066.360840</td>\n",
       "      <td>4.000000</td>\n",
       "    </tr>\n",
       "  </tbody>\n",
       "</table>\n",
       "</div>"
      ],
      "text/plain": [
       "             CD45_2          Ly6G           IgD         CD11c          F480  \\\n",
       "count  64000.000000  64000.000000  64000.000000  64000.000000  64000.000000   \n",
       "mean      14.990924      1.856162     10.519870      0.744739      7.199806   \n",
       "std       13.730517      2.710905     24.678614      4.300934     18.859903   \n",
       "min        0.688541     -0.961212     -0.955516     -0.957656     -0.963544   \n",
       "25%        6.138587      0.021828     -0.458477     -0.532739      0.031501   \n",
       "50%       11.285681      1.125305     -0.070340     -0.218408      1.919865   \n",
       "75%       19.368626      2.879700      2.622732      0.462946      7.214267   \n",
       "max      265.992279     99.542442    251.426910    224.745270    695.577881   \n",
       "\n",
       "                CD3         NKp46          CD23          CD34         CD115  \\\n",
       "count  64000.000000  64000.000000  64000.000000  64000.000000  64000.000000   \n",
       "mean       1.996373      0.854031      0.500074      4.374763      3.383336   \n",
       "std        9.405244      2.409622      2.160729     18.159928      5.350769   \n",
       "min       -0.954649     -0.957595     -0.955024     -0.963577     -0.957363   \n",
       "25%       -0.501069     -0.428413     -0.525818     -0.184206      0.265223   \n",
       "50%       -0.161698     -0.018963     -0.208224      0.795588      1.776719   \n",
       "75%        0.655443      1.166935      0.522239      3.085984      4.567230   \n",
       "max      210.105545     93.540810     40.675377    448.542725    187.677826   \n",
       "\n",
       "               CD19         CD317           CD8          Ly6C           CD4  \\\n",
       "count  64000.000000  64000.000000  64000.000000  64000.000000  64000.000000   \n",
       "mean       2.544937      5.845469      3.707274     56.651162      9.217409   \n",
       "std        5.472448     28.268440     22.687939     99.233057     50.442712   \n",
       "min       -0.955344     -0.956809     -0.956715     -0.961685     -0.958159   \n",
       "25%       -0.426032     -0.522950     -0.506049     -0.104224     -0.383094   \n",
       "50%       -0.002770     -0.206211     -0.172397      7.166169      0.232776   \n",
       "75%        3.175143      0.498927      0.640204     75.573193      2.198896   \n",
       "max      102.085670    531.240967    635.897156   1738.424683   1370.197998   \n",
       "\n",
       "              CD11b          CD27       CD16_32       SiglecF         Foxp3  \\\n",
       "count  64000.000000  64000.000000  64000.000000  64000.000000  64000.000000   \n",
       "mean      68.020534      4.763361     66.271558     10.252683      0.745636   \n",
       "std      108.814925     17.561078     81.241472     26.909076      2.235865   \n",
       "min       -0.956260     -0.962440     -0.936660     -0.961858     -0.952520   \n",
       "25%       -0.042794     -0.358163     14.419598      0.244718     -0.427223   \n",
       "50%       15.101614      0.323724     39.586920      1.934582     -0.018602   \n",
       "75%       95.450727      2.387471     89.560493      5.653902      1.043876   \n",
       "max     1060.519409    329.541473   2177.363281    495.177490     98.660614   \n",
       "\n",
       "               B220           CD5        FceR1a         TCRgd          CCR7  \\\n",
       "count  64000.000000  64000.000000  64000.000000  64000.000000  64000.000000   \n",
       "mean      37.702787      9.788307      1.241115      0.039797      1.054302   \n",
       "std       68.542703     49.315548      3.924156      1.316292      2.854488   \n",
       "min       -0.952209     -0.954849     -0.961525     -0.958681     -0.953416   \n",
       "25%       -0.266084      0.191124     -0.310505     -0.558397     -0.362051   \n",
       "50%        0.976149      1.474529      0.361529     -0.269955      0.239995   \n",
       "75%       45.180740      4.057003      1.603233      0.095968      1.478141   \n",
       "max      728.970642   1731.524658    192.000076     95.524033    317.294464   \n",
       "\n",
       "               Sca1         CD49b          cKit         CD150          CD25  \\\n",
       "count  64000.000000  64000.000000  64000.000000  64000.000000  64000.000000   \n",
       "mean      45.340457      2.212637      5.371156      0.540267      0.289413   \n",
       "std      212.254998     14.186391     30.554093      1.961203      2.062137   \n",
       "min       -0.955167     -0.960603     -0.955560     -0.960407     -0.954603   \n",
       "25%       -0.160783     -0.512258     -0.475403     -0.470028     -0.525302   \n",
       "50%        1.032405     -0.178287     -0.106894     -0.097116     -0.205850   \n",
       "75%        6.054978      0.639575      1.202934      0.766721      0.423269   \n",
       "max     3111.860107    653.011597   1157.092041     83.264595    251.272598   \n",
       "\n",
       "               TCRb          CD43          CD64         CD138         CD103  \\\n",
       "count  64000.000000  64000.000000  64000.000000  64000.000000  64000.000000   \n",
       "mean       2.526127     21.150531      6.838903      0.880665      0.239405   \n",
       "std       12.836736     58.417741     20.391171      2.625042      1.536848   \n",
       "min       -0.959976     -0.955918     -0.955013     -0.955370     -0.960537   \n",
       "25%       -0.487358     -0.055279      0.473218     -0.382427     -0.513516   \n",
       "50%       -0.134647      2.225038      2.404246      0.140192     -0.185953   \n",
       "75%        0.658424     15.104270      6.757323      1.274122      0.479075   \n",
       "max      315.617554   1108.835693   1115.901001    132.380600    109.629303   \n",
       "\n",
       "                IgM          CD44         MHCII     replicate  \n",
       "count  64000.000000  64000.000000  64000.000000  64000.000000  \n",
       "mean      46.072885    120.200804    162.636111      2.500000  \n",
       "std      227.901719    120.013352    350.503770      1.118043  \n",
       "min       -0.952233     -0.927464     -0.951164      1.000000  \n",
       "25%       -0.031417     12.697038      2.779469      1.750000  \n",
       "50%        1.577631     92.549377      8.538497      2.500000  \n",
       "75%       26.643014    195.627972    129.669563      3.250000  \n",
       "max     7138.376465   3007.350342   6066.360840      4.000000  "
      ]
     },
     "execution_count": 5,
     "metadata": {},
     "output_type": "execute_result"
    }
   ],
   "source": [
    "data.describe()"
   ]
  },
  {
   "cell_type": "code",
   "execution_count": 6,
   "metadata": {},
   "outputs": [
    {
     "data": {
      "text/plain": [
       "CD45_2       64000\n",
       "Ly6G         64000\n",
       "IgD          64000\n",
       "CD11c        64000\n",
       "F480         64000\n",
       "CD3          64000\n",
       "NKp46        64000\n",
       "CD23         64000\n",
       "CD34         64000\n",
       "CD115        64000\n",
       "CD19         64000\n",
       "CD317        64000\n",
       "CD8          64000\n",
       "Ly6C         64000\n",
       "CD4          64000\n",
       "CD11b        64000\n",
       "CD27         64000\n",
       "CD16_32      64000\n",
       "SiglecF      64000\n",
       "Foxp3        64000\n",
       "B220         64000\n",
       "CD5          64000\n",
       "FceR1a       64000\n",
       "TCRgd        64000\n",
       "CCR7         64000\n",
       "Sca1         64000\n",
       "CD49b        64000\n",
       "cKit         64000\n",
       "CD150        64000\n",
       "CD25         64000\n",
       "TCRb         64000\n",
       "CD43         64000\n",
       "CD64         64000\n",
       "CD138        64000\n",
       "CD103        64000\n",
       "IgM          64000\n",
       "CD44         64000\n",
       "MHCII        64000\n",
       "cell type    64000\n",
       "replicate    64000\n",
       "dtype: int64"
      ]
     },
     "execution_count": 6,
     "metadata": {},
     "output_type": "execute_result"
    }
   ],
   "source": [
    "data.count()"
   ]
  },
  {
   "cell_type": "code",
   "execution_count": 7,
   "metadata": {},
   "outputs": [
    {
     "data": {
      "text/plain": [
       "array(['B-cell Frac A-C (pro-B cells)', 'Basophils', 'CD4 T cells',\n",
       "       'CD8 T cells', 'CLP', 'CMP', 'Classical Monocytes', 'Eosinophils',\n",
       "       'GMP', 'HSC', 'IgD- IgMpos B cells', 'IgDpos IgMpos B cells',\n",
       "       'IgM- IgD- B-cells', 'Intermediate Monocytes', 'MEP', 'MPP',\n",
       "       'Macrophages', 'NK cells', 'NKT cells', 'Non-Classical Monocytes',\n",
       "       'Plasma Cells', 'gd T cells', 'mDCs', 'pDCs'], dtype=object)"
      ]
     },
     "execution_count": 7,
     "metadata": {},
     "output_type": "execute_result"
    }
   ],
   "source": [
    "np.unique(y_df)"
   ]
  },
  {
   "cell_type": "markdown",
   "metadata": {},
   "source": [
    "### Predicting cell type\n",
    "\n",
    "The goal is to predict the cell type. Let us group the data according to the `cell type` columns:"
   ]
  },
  {
   "cell_type": "code",
   "execution_count": 8,
   "metadata": {},
   "outputs": [
    {
     "data": {
      "text/plain": [
       "cell type\n",
       "HSC                                  3\n",
       "gd T cells                          46\n",
       "CLP                                 53\n",
       "mDCs                               123\n",
       "MPP                                171\n",
       "Plasma Cells                       190\n",
       "CMP                                257\n",
       "Macrophages                        309\n",
       "NK cells                           348\n",
       "B-cell Frac A-C (pro-B cells)      471\n",
       "Basophils                          498\n",
       "MEP                                615\n",
       "CD4 T cells                        705\n",
       "GMP                                861\n",
       "NKT cells                         1083\n",
       "Non-Classical Monocytes           1130\n",
       "CD8 T cells                       1462\n",
       "IgM- IgD- B-cells                 1916\n",
       "pDCs                              3389\n",
       "IgD- IgMpos B cells               5273\n",
       "Eosinophils                       7117\n",
       "Intermediate Monocytes           10454\n",
       "IgDpos IgMpos B cells            13582\n",
       "Classical Monocytes              13944\n",
       "Name: CD45_2, dtype: int64"
      ]
     },
     "execution_count": 8,
     "metadata": {},
     "output_type": "execute_result"
    }
   ],
   "source": [
    "counts = data.groupby('cell type').count()['CD45_2']\n",
    "counts.sort_values()"
   ]
  },
  {
   "cell_type": "markdown",
   "metadata": {},
   "source": [
    "The class distribution is very unbalanced which explains why we will measure the performance with balanced accuracy aka macro-averaged recall."
   ]
  },
  {
   "cell_type": "markdown",
   "metadata": {},
   "source": [
    "### Some plots"
   ]
  },
  {
   "cell_type": "markdown",
   "metadata": {},
   "source": [
    "#### Features densities and co-evolution\n",
    "A scatterplot matrix allows us to visualize:\n",
    "* on the diagonal, the density estimation for each feature\n",
    "* on each of the off-diagonal plots, a scatterplot between two features. Each dot represents an instance."
   ]
  },
  {
   "cell_type": "code",
   "execution_count": 9,
   "metadata": {},
   "outputs": [
    {
     "data": {
      "image/png": "[encoded data removed]",
      "text/plain": [
       "<matplotlib.figure.Figure at 0x1110dbcd0>"
      ]
     },
     "metadata": {},
     "output_type": "display_data"
    }
   ],
   "source": [
    "from pandas.tools.plotting import scatter_matrix\n",
    "\n",
    "data_plot = data[['CD45_2', 'Ly6G', 'IgD', 'cell type']].iloc[\n",
    "    np.random.choice(len(data), 1000)]\n",
    "\n",
    "scatter_matrix(data_plot, alpha=0.2,\n",
    "               figsize=(8, 8), diagonal='kde');"
   ]
  },
  {
   "cell_type": "markdown",
   "metadata": {},
   "source": [
    "#### Plot the bivariate distributions and marginals of two variables \n",
    "\n",
    "Another way of visualizing relationships between variables is to plot their bivariate distributions."
   ]
  },
  {
   "cell_type": "code",
   "execution_count": 10,
   "metadata": {
    "scrolled": false
   },
   "outputs": [
    {
     "name": "stderr",
     "output_type": "stream",
     "text": [
      "/Users/kegl/anaconda/lib/python2.7/site-packages/numpy/ma/core.py:6385: MaskedArrayFutureWarning: In the future the default for ma.maximum.reduce will be axis=0, not the current None, to match np.maximum.reduce. Explicitly pass 0 or None to silence this warning.\n",
      "  return self.reduce(a)\n",
      "/Users/kegl/anaconda/lib/python2.7/site-packages/numpy/ma/core.py:6385: MaskedArrayFutureWarning: In the future the default for ma.minimum.reduce will be axis=0, not the current None, to match np.minimum.reduce. Explicitly pass 0 or None to silence this warning.\n",
      "  return self.reduce(a)\n"
     ]
    },
    {
     "data": {
      "image/png": "[encoded data removed]",
      "text/plain": [
       "<matplotlib.figure.Figure at 0x1115ad050>"
      ]
     },
     "metadata": {},
     "output_type": "display_data"
    },
    {
     "data": {
      "image/png": "[encoded data removed]",
      "text/plain": [
       "<matplotlib.figure.Figure at 0x115fbab90>"
      ]
     },
     "metadata": {},
     "output_type": "display_data"
    }
   ],
   "source": [
    "sns.set()\n",
    "sns.set_style(\"whitegrid\")\n",
    "sns.jointplot(data_plot['CD45_2'][data_plot['cell type'] == 'IgDpos IgMpos B cells'],\n",
    "              data_plot['IgD'][data_plot['cell type'] == 'IgDpos IgMpos B cells'],\n",
    "              kind=\"kde\", size=7, space=0, color=\"b\");\n",
    "\n",
    "sns.jointplot(data_plot['CD45_2'][data_plot['cell type'] == 'Classical Monocytes'],\n",
    "              data_plot['IgD'][data_plot['cell type'] == 'Classical Monocytes'],\n",
    "              kind=\"kde\", size=7, space=0, color=\"b\");\n"
   ]
  },
  {
   "cell_type": "markdown",
   "metadata": {},
   "source": [
    "## The pipeline\n",
    "\n",
    "For submitting at the [RAMP site](http://ramp.studio), you will have to write two classes, saved in two different files:   \n",
    "* the class `FeatureExtractor`, which will be used to extract features for classification from the dataset and produce a numpy array of size (number of samples $\\times$ number of features). \n",
    "* a class `Classifier` to predict survival"
   ]
  },
  {
   "cell_type": "markdown",
   "metadata": {},
   "source": [
    "### Feature extractor"
   ]
  },
  {
   "cell_type": "markdown",
   "metadata": {},
   "source": [
    "The feature extractor implements a `transform` member function. It is saved in the file [`submissions/starting_kit/feature_extractor.py`](/edit/submissions/starting_kit/feature_extractor.py). It receives the pandas dataframe `X_df` defined at the beginning of the notebook. It should produce a numpy array representing the extracted features, which will then be used for the classification. The starting kit feature extractor simply converts the pandas dataframe into a numerical array, withough any modification or selection of the features.\n",
    "\n",
    "Note that the following code cells are *not* executed in the notebook. The notebook saves their contents in the file specified in the first line of the cell, so you can edit your submission before running the local test below and submitting it at the RAMP site."
   ]
  },
  {
   "cell_type": "code",
   "execution_count": 11,
   "metadata": {},
   "outputs": [
    {
     "name": "stdout",
     "output_type": "stream",
     "text": [
      "Overwriting submissions/starting_kit/feature_extractor.py\n"
     ]
    }
   ],
   "source": [
    "%%file submissions/starting_kit/feature_extractor.py\n",
    "class FeatureExtractor():\n",
    "    def __init__(self):\n",
    "        pass\n",
    "\n",
    "    def fit(self, X_df, y):\n",
    "        pass\n",
    "\n",
    "    def transform(self, X_df):\n",
    "        X_array = X_df.values\n",
    "        return X_array\n",
    "\n"
   ]
  },
  {
   "cell_type": "markdown",
   "metadata": {},
   "source": [
    "### Classifier"
   ]
  },
  {
   "cell_type": "markdown",
   "metadata": {},
   "source": [
    "The classifier follows a classical scikit-learn classifier template. It should be saved in the file [`submissions/starting_kit/classifier.py`](/edit/submissions/starting_kit/classifier.py). In its simplest form it takes a scikit-learn pipeline, assigns it to `self.clf`, then calls its `fit` and `predict_proba` functions in the corresponding member funtions."
   ]
  },
  {
   "cell_type": "code",
   "execution_count": 12,
   "metadata": {},
   "outputs": [
    {
     "name": "stdout",
     "output_type": "stream",
     "text": [
      "Overwriting submissions/starting_kit/classifier.py\n"
     ]
    }
   ],
   "source": [
    "%%file submissions/starting_kit/classifier.py\n",
    "from sklearn.base import BaseEstimator\n",
    "from sklearn.ensemble import RandomForestClassifier\n",
    "\n",
    "\n",
    "class Classifier(BaseEstimator):\n",
    "    def __init__(self):\n",
    "        pass\n",
    "\n",
    "    def fit(self, X, y):\n",
    "        self.clf = RandomForestClassifier(\n",
    "            n_estimators=2, max_leaf_nodes=2, random_state=61)\n",
    "        self.clf.fit(X, y)\n",
    "\n",
    "    def predict(self, X):\n",
    "        return self.clf.predict(X)\n",
    "\n",
    "    def predict_proba(self, X):\n",
    "        return self.clf.predict_proba(X)\n",
    "\n"
   ]
  },
  {
   "cell_type": "markdown",
   "metadata": {},
   "source": [
    "## Local testing (before submission)\n",
    "\n",
    "It is <b><span style=\"color:red\">important that you test your submission files before submitting them</span></b>. For this we provide a unit test. Note that the test runs on your files in [`submissions/starting_kit`](/tree/submissions/starting_kit), not on the classes defined in the cells of this notebook.\n",
    "\n",
    "First `pip install ramp-workflow` or install it from the [github repo](https://github.com/paris-saclay-cds/ramp-workflow). Make sure that the python files `classifier.py` and `feature_extractor.py` are in the  [`submissions/starting_kit`](/tree/submissions/starting_kit) folder, and the data `train.csv` and `test.csv` are in [`data`](/tree/data). Then run\n",
    "\n",
    "```ramp_test_submission```\n",
    "\n",
    "If it runs and print training and test errors on each fold, then you can submit the code."
   ]
  },
  {
   "cell_type": "code",
   "execution_count": 13,
   "metadata": {
    "scrolled": true
   },
   "outputs": [
    {
     "name": "stdout",
     "output_type": "stream",
     "text": [
      "Testing Cell population identification from single-cell mass cytometry data\n",
      "Reading train and test files from ./data ...\n",
      "Reading cv ...\n",
      "Training ./submissions/starting_kit ...\n",
      "CV fold 0\n",
      "\ttrain bac = 0.04\n",
      "\tvalid bac = 0.04\n",
      "\ttest bac = 0.04\n",
      "\ttrain acc = 0.427\n",
      "\tvalid acc = 0.416\n",
      "\ttest acc = 0.396\n",
      "\ttrain nll = 1.72\n",
      "\tvalid nll = 1.71\n",
      "\ttest nll = 1.78\n",
      "CV fold 1\n",
      "\ttrain bac = 0.04\n",
      "\tvalid bac = 0.05\n",
      "\ttest bac = 0.04\n",
      "\ttrain acc = 0.415\n",
      "\tvalid acc = 0.453\n",
      "\ttest acc = 0.396\n",
      "\ttrain nll = 1.73\n",
      "\tvalid nll = 1.66\n",
      "\ttest nll = 1.78\n",
      "CV fold 2\n",
      "\ttrain bac = 0.04\n",
      "\tvalid bac = 0.04\n",
      "\ttest bac = 0.04\n",
      "\ttrain acc = 0.408\n",
      "\tvalid acc = 0.471\n",
      "\ttest acc = 0.394\n",
      "\ttrain nll = 1.74\n",
      "\tvalid nll = 1.61\n",
      "\ttest nll = 1.77\n",
      "CV fold 3\n",
      "\ttrain bac = 0.04\n",
      "\tvalid bac = 0.04\n",
      "\ttest bac = 0.04\n",
      "\ttrain acc = 0.448\n",
      "\tvalid acc = 0.357\n",
      "\ttest acc = 0.396\n",
      "\ttrain nll = 1.65\n",
      "\tvalid nll = 1.92\n",
      "\ttest nll = 1.79\n",
      "----------------------------\n",
      "train bac = 0.04 ± 0.0\n",
      "train acc = 0.425 ± 0.0152\n",
      "train nll = 1.71 ± 0.032\n",
      "valid bac = 0.04 ± 0.002\n",
      "valid acc = 0.424 ± 0.0437\n",
      "valid nll = 1.72 ± 0.116\n",
      "test bac = 0.04 ± 0.0\n",
      "test acc = 0.395 ± 0.0006\n",
      "test nll = 1.78 ± 0.006\n"
     ]
    }
   ],
   "source": [
    "!ramp_test_submission"
   ]
  },
  {
   "cell_type": "markdown",
   "metadata": {},
   "source": [
    "## Submitting to [ramp.studio](http://ramp.studio)\n",
    "\n",
    "Once you found a good feature extractor and classifier, you can submit them to [ramp.studio](http://www.ramp.studio). First, if it is your first time using RAMP, [sign up](http://www.ramp.studio/sign_up), otherwise [log in](http://www.ramp.studio/login). Then find an open event on the particular problem, for example, the event [mouse cytometry](http://www.ramp.studio/events/mouse_cytometry) for this RAMP. Sign up for the event. Both signups are controled by RAMP administrators, so there **can be a delay between asking for signup and being able to submit**.\n",
    "\n",
    "Once your signup request is accepted, you can go to your [sandbox](http://www.ramp.studio/events/mouse_cytometry/sandbox) and copy-paste (or upload) [`feature_extractor.py`](/edit/submissions/starting_kit/feature_extractor.py) and [`classifier.py`](/edit/submissions/starting_kit/classifier.py) from `submissions/starting_kit`. Save it, rename it, then submit it. The submission is trained and tested on our backend in the same way as `ramp_test_submission` does it locally. While your submission is waiting in the queue and being trained, you can find it in the \"New submissions (pending training)\" table in [my submissions](http://www.ramp.studio/events/mouse_cytometry/my_submissions). Once it is trained, you get a mail, and your submission shows up on the [public leaderboard](http://www.ramp.studio/events/mouse_cytometry/leaderboard). \n",
    "If there is an error (despite having tested your submission locally with `ramp_test_submission`), it will show up in the \"Failed submissions\" table in [my submissions](http://www.ramp.studio/events/mouse_cytometry/my_submissions). You can click on the error to see part of the trace.\n",
    "\n",
    "After submission, do not forget to give credits to the previous submissions you reused or integrated into your submission.\n",
    "\n",
    "The data set we use at the backend is usually different from what you find in the starting kit, so the score may be different.\n",
    "\n",
    "The usual way to work with RAMP is to explore solutions, add feature transformations, select models, perhaps do some AutoML/hyperopt, etc., _locally_, and checking them with `ramp_test_submission`. The script prints mean cross-validation scores \n",
    "```\n",
    "----------------------------\n",
    "train bac = 0.04 ± 0.0\n",
    "train acc = 0.425 ± 0.0152\n",
    "train nll = 1.71 ± 0.032\n",
    "valid bac = 0.04 ± 0.002\n",
    "valid acc = 0.424 ± 0.0437\n",
    "valid nll = 1.72 ± 0.116\n",
    "test bac = 0.04 ± 0.0\n",
    "test acc = 0.395 ± 0.0006\n",
    "test nll = 1.78 ± 0.006\n",
    "```\n",
    "The official score in this RAMP (the first score column after \"historical contributivity\" on the [leaderboard](http://www.ramp.studio/events/mouse_cytometry/leaderboard)) is [balanced accuracy](https://github.com/paris-saclay-cds/ramp-workflow/blob/master/rampwf/score_types/balanced_accuracy.py), more precisely the balanced [macro-averaged recall](https://github.com/paris-saclay-cds/ramp-workflow/blob/master/rampwf/score_types/macro_averaged_recall.py), so the line that is relevant in the output of `ramp_test_submission` is `valid bac = 0.04 ± 0.0`. When the score is good enough, you can submit it at the RAMP."
   ]
  },
  {
   "cell_type": "markdown",
   "metadata": {},
   "source": [
    "## Working in the notebook\n",
    "\n",
    "When you are developing and debugging your submission, you may want to stay in the notebook and execute the workflow step by step. You can import `problem.py` and call the ingredients directly, or even deconstruct the code from [ramp-workflow](https://github.com/paris-saclay-cds/ramp-workflow)."
   ]
  },
  {
   "cell_type": "code",
   "execution_count": 14,
   "metadata": {
    "collapsed": true
   },
   "outputs": [],
   "source": [
    "import imp\n",
    "problem = imp.load_source('', 'problem.py')"
   ]
  },
  {
   "cell_type": "markdown",
   "metadata": {},
   "source": [
    "Get the training data."
   ]
  },
  {
   "cell_type": "code",
   "execution_count": 15,
   "metadata": {
    "collapsed": true
   },
   "outputs": [],
   "source": [
    "X_train, y_train = problem.get_train_data()"
   ]
  },
  {
   "cell_type": "markdown",
   "metadata": {},
   "source": [
    "Get the first cv fold, creating training and validation indices."
   ]
  },
  {
   "cell_type": "code",
   "execution_count": 16,
   "metadata": {},
   "outputs": [
    {
     "data": {
      "text/plain": [
       "array([    0,     1,     2, ..., 15997, 15998, 15999])"
      ]
     },
     "execution_count": 16,
     "metadata": {},
     "output_type": "execute_result"
    }
   ],
   "source": [
    "train_is, test_is = list(problem.get_cv(X_train, y_train))[0]\n",
    "test_is"
   ]
  },
  {
   "cell_type": "markdown",
   "metadata": {},
   "source": [
    "Train your starting kit."
   ]
  },
  {
   "cell_type": "code",
   "execution_count": 17,
   "metadata": {
    "collapsed": true
   },
   "outputs": [],
   "source": [
    "fe, clf = problem.workflow.train_submission(\n",
    "    'submissions/starting_kit', X_train, y_train, train_is)"
   ]
  },
  {
   "cell_type": "markdown",
   "metadata": {},
   "source": [
    "Get the full prediction (train and validation)."
   ]
  },
  {
   "cell_type": "code",
   "execution_count": 18,
   "metadata": {
    "collapsed": true
   },
   "outputs": [],
   "source": [
    "y_pred = problem.workflow.test_submission((fe, clf), X_train)"
   ]
  },
  {
   "cell_type": "markdown",
   "metadata": {},
   "source": [
    "Print the training and validation scores."
   ]
  },
  {
   "cell_type": "code",
   "execution_count": 19,
   "metadata": {
    "collapsed": true
   },
   "outputs": [],
   "source": [
    "score_function = problem.score_types[0]"
   ]
  },
  {
   "cell_type": "markdown",
   "metadata": {},
   "source": [
    "`score_function` is callable, wrapping scikit-learn's `recall_score(..., average='macro')`. It expects the label index vectors, so it's easier if we wrap the predictions into `rampwf.prediction_types.multiclass` which does these transformations and call `score_function.score_function` which takes this type as input."
   ]
  },
  {
   "cell_type": "code",
   "execution_count": 20,
   "metadata": {
    "collapsed": true
   },
   "outputs": [],
   "source": [
    "ground_truth = problem.Predictions(y_true=y_train)\n",
    "prediction = problem.Predictions(y_pred=y_pred)"
   ]
  },
  {
   "cell_type": "code",
   "execution_count": 21,
   "metadata": {},
   "outputs": [
    {
     "name": "stdout",
     "output_type": "stream",
     "text": [
      "0.0423560409145\n"
     ]
    }
   ],
   "source": [
    "score_train = score_function.score_function(ground_truth, prediction, train_is)\n",
    "print(score_train)"
   ]
  },
  {
   "cell_type": "code",
   "execution_count": 22,
   "metadata": {},
   "outputs": [
    {
     "name": "stdout",
     "output_type": "stream",
     "text": [
      "0.0424539296411\n"
     ]
    }
   ],
   "source": [
    "score_valid = score_function.score_function(ground_truth, prediction, test_is)\n",
    "print(score_valid)"
   ]
  },
  {
   "cell_type": "markdown",
   "metadata": {},
   "source": [
    "Get the independent test data."
   ]
  },
  {
   "cell_type": "code",
   "execution_count": 23,
   "metadata": {
    "collapsed": true
   },
   "outputs": [],
   "source": [
    "X_test, y_test = problem.get_test_data()"
   ]
  },
  {
   "cell_type": "markdown",
   "metadata": {},
   "source": [
    "Test the submission on it."
   ]
  },
  {
   "cell_type": "code",
   "execution_count": 24,
   "metadata": {
    "collapsed": true
   },
   "outputs": [],
   "source": [
    "y_test_pred = problem.workflow.test_submission((fe, clf), X_test)"
   ]
  },
  {
   "cell_type": "code",
   "execution_count": 25,
   "metadata": {
    "collapsed": true
   },
   "outputs": [],
   "source": [
    "ground_truth_test = problem.Predictions(y_true=y_test)\n",
    "prediction_test = problem.Predictions(y_pred=y_test_pred)"
   ]
  },
  {
   "cell_type": "code",
   "execution_count": 26,
   "metadata": {},
   "outputs": [
    {
     "name": "stdout",
     "output_type": "stream",
     "text": [
      "0.041970903861\n"
     ]
    }
   ],
   "source": [
    "score_test = score_function.score_function(ground_truth_test, prediction_test)\n",
    "print(score_test)"
   ]
  },
  {
   "cell_type": "markdown",
   "metadata": {},
   "source": [
    "If you want to execute training step by step, go to the [`feature_extractor_classifier`](https://github.com/paris-saclay-cds/ramp-workflow/blob/master/rampwf/workflows/feature_extractor_classifier.py), [`feature_extractor`](https://github.com/paris-saclay-cds/ramp-workflow/blob/master/rampwf/workflows/feature_extractor.py), and [`classifier`](https://github.com/paris-saclay-cds/ramp-workflow/blob/master/rampwf/workflows/classifier.py) workflows and deconstruct them.\n",
    "\n",
    "First load the submission files and instantiate the feature extractor and regressor objects."
   ]
  },
  {
   "cell_type": "code",
   "execution_count": 27,
   "metadata": {
    "collapsed": true
   },
   "outputs": [],
   "source": [
    "feature_extractor = imp.load_source(\n",
    "    '', 'submissions/starting_kit/feature_extractor.py')\n",
    "fe = feature_extractor.FeatureExtractor()\n",
    "classifier = imp.load_source(\n",
    "    '', 'submissions/starting_kit/classifier.py')\n",
    "clf = classifier.Classifier()"
   ]
  },
  {
   "cell_type": "markdown",
   "metadata": {},
   "source": [
    "Select the training folds."
   ]
  },
  {
   "cell_type": "code",
   "execution_count": 28,
   "metadata": {
    "collapsed": true
   },
   "outputs": [],
   "source": [
    "X_train_train_df = X_train.iloc[train_is]\n",
    "y_train_train = y_train[train_is]"
   ]
  },
  {
   "cell_type": "markdown",
   "metadata": {},
   "source": [
    "Fit the feature extractor."
   ]
  },
  {
   "cell_type": "code",
   "execution_count": 29,
   "metadata": {
    "collapsed": true
   },
   "outputs": [],
   "source": [
    "fe.fit(X_train_train_df, y_train_train)"
   ]
  },
  {
   "cell_type": "markdown",
   "metadata": {},
   "source": [
    "Transform the training dataframe into numpy array."
   ]
  },
  {
   "cell_type": "code",
   "execution_count": 30,
   "metadata": {
    "collapsed": true
   },
   "outputs": [],
   "source": [
    "X_train_train_array = fe.transform(X_train_train_df)"
   ]
  },
  {
   "cell_type": "markdown",
   "metadata": {},
   "source": [
    "Fit the classifier."
   ]
  },
  {
   "cell_type": "code",
   "execution_count": 31,
   "metadata": {
    "collapsed": true
   },
   "outputs": [],
   "source": [
    "clf.fit(X_train_train_array, y_train_train)"
   ]
  },
  {
   "cell_type": "markdown",
   "metadata": {},
   "source": [
    "Transform the _whole_ (training + validation) dataframe into a numpy array and compute the prediction."
   ]
  },
  {
   "cell_type": "code",
   "execution_count": 32,
   "metadata": {
    "collapsed": true
   },
   "outputs": [],
   "source": [
    "X_train_array = fe.transform(X_train)\n",
    "y_pred = clf.predict_proba(X_train_array)\n",
    "ground_truth = problem.Predictions(y_true=y_train)\n",
    "prediction = problem.Predictions(y_pred=y_pred)"
   ]
  },
  {
   "cell_type": "markdown",
   "metadata": {},
   "source": [
    "Print the errors."
   ]
  },
  {
   "cell_type": "code",
   "execution_count": 33,
   "metadata": {},
   "outputs": [
    {
     "name": "stdout",
     "output_type": "stream",
     "text": [
      "0.0423560409145\n"
     ]
    }
   ],
   "source": [
    "score_train = score_function.score_function(ground_truth, prediction, train_is)\n",
    "print(score_train)"
   ]
  },
  {
   "cell_type": "code",
   "execution_count": 34,
   "metadata": {},
   "outputs": [
    {
     "name": "stdout",
     "output_type": "stream",
     "text": [
      "0.0424539296411\n"
     ]
    }
   ],
   "source": [
    "score_valid = score_function.score_function(ground_truth, prediction, test_is)\n",
    "print(score_valid)"
   ]
  },
  {
   "cell_type": "markdown",
   "metadata": {},
   "source": [
    "## More information\n",
    "\n",
    "You can find more information in the [README](https://github.com/paris-saclay-cds/ramp-workflow/blob/master/README.md) of the [ramp-workflow library](https://github.com/paris-saclay-cds/ramp-workflow)."
   ]
  },
  {
   "cell_type": "markdown",
   "metadata": {},
   "source": [
    "## Contact\n",
    "\n",
    "Don't hesitate to [contact us](mailto:admin@ramp.studio?subject=mouse cytometry notebook)."
   ]
  }
 ],
 "metadata": {
  "anaconda-cloud": {},
  "kernelspec": {
   "display_name": "Python 2",
   "language": "python",
   "name": "python2"
  },
  "language_info": {
   "codemirror_mode": {
    "name": "ipython",
    "version": 2
   },
   "file_extension": ".py",
   "mimetype": "text/x-python",
   "name": "python",
   "nbconvert_exporter": "python",
   "pygments_lexer": "ipython2",
   "version": "2.7.12"
  }
 },
 "nbformat": 4,
 "nbformat_minor": 1
}
